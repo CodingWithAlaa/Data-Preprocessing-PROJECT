{
 "cells": [
  {
   "cell_type": "markdown",
   "id": "c620b15a-79ff-4da3-a579-290f8968d4cd",
   "metadata": {},
   "source": [
    "Introduction\n",
    "\n",
    "The Play Store hosts a wide range of applications, and the data associated with these apps offers significant potential for analysis. Developers and businesses can leverage this data to understand market trends, optimize their apps, and maximize user engagement.\n",
    "\n",
    "In this project, we will perform a data cleaning and preprocessing task on the Play Store apps dataset, addressing missing values, outliers, and other issues while extracting valuable insights.\n"
   ]
  },
  {
   "cell_type": "code",
   "execution_count": 164,
   "id": "bd71839c-936d-499f-92ce-eb9edccc87f9",
   "metadata": {},
   "outputs": [],
   "source": [
    "import pandas as pd\n",
    "import numpy as np"
   ]
  },
  {
   "cell_type": "code",
   "execution_count": 165,
   "id": "2a8796b4-6451-4192-8f9a-1555f3bf75ac",
   "metadata": {},
   "outputs": [
    {
     "data": {
      "text/html": [
       "<div>\n",
       "<style scoped>\n",
       "    .dataframe tbody tr th:only-of-type {\n",
       "        vertical-align: middle;\n",
       "    }\n",
       "\n",
       "    .dataframe tbody tr th {\n",
       "        vertical-align: top;\n",
       "    }\n",
       "\n",
       "    .dataframe thead th {\n",
       "        text-align: right;\n",
       "    }\n",
       "</style>\n",
       "<table border=\"1\" class=\"dataframe\">\n",
       "  <thead>\n",
       "    <tr style=\"text-align: right;\">\n",
       "      <th></th>\n",
       "      <th>App</th>\n",
       "      <th>Category</th>\n",
       "      <th>Rating</th>\n",
       "      <th>Reviews</th>\n",
       "      <th>Size</th>\n",
       "      <th>Installs</th>\n",
       "      <th>Type</th>\n",
       "      <th>Price</th>\n",
       "      <th>Content Rating</th>\n",
       "      <th>Genres</th>\n",
       "      <th>Last Updated</th>\n",
       "      <th>Current Ver</th>\n",
       "      <th>Android Ver</th>\n",
       "    </tr>\n",
       "  </thead>\n",
       "  <tbody>\n",
       "    <tr>\n",
       "      <th>0</th>\n",
       "      <td>Photo Editor &amp; Candy Camera &amp; Grid &amp; ScrapBook</td>\n",
       "      <td>ART_AND_DESIGN</td>\n",
       "      <td>4.1</td>\n",
       "      <td>159</td>\n",
       "      <td>19M</td>\n",
       "      <td>10,000+</td>\n",
       "      <td>Free</td>\n",
       "      <td>0</td>\n",
       "      <td>Everyone</td>\n",
       "      <td>Art &amp; Design</td>\n",
       "      <td>January 7, 2018</td>\n",
       "      <td>1.0.0</td>\n",
       "      <td>4.0.3 and up</td>\n",
       "    </tr>\n",
       "    <tr>\n",
       "      <th>1</th>\n",
       "      <td>Coloring book moana</td>\n",
       "      <td>ART_AND_DESIGN</td>\n",
       "      <td>3.9</td>\n",
       "      <td>967</td>\n",
       "      <td>14M</td>\n",
       "      <td>500,000+</td>\n",
       "      <td>Free</td>\n",
       "      <td>0</td>\n",
       "      <td>Everyone</td>\n",
       "      <td>Art &amp; Design;Pretend Play</td>\n",
       "      <td>January 15, 2018</td>\n",
       "      <td>2.0.0</td>\n",
       "      <td>4.0.3 and up</td>\n",
       "    </tr>\n",
       "    <tr>\n",
       "      <th>2</th>\n",
       "      <td>U Launcher Lite – FREE Live Cool Themes, Hide ...</td>\n",
       "      <td>ART_AND_DESIGN</td>\n",
       "      <td>4.7</td>\n",
       "      <td>87510</td>\n",
       "      <td>8.7M</td>\n",
       "      <td>5,000,000+</td>\n",
       "      <td>Free</td>\n",
       "      <td>0</td>\n",
       "      <td>Everyone</td>\n",
       "      <td>Art &amp; Design</td>\n",
       "      <td>August 1, 2018</td>\n",
       "      <td>1.2.4</td>\n",
       "      <td>4.0.3 and up</td>\n",
       "    </tr>\n",
       "    <tr>\n",
       "      <th>3</th>\n",
       "      <td>Sketch - Draw &amp; Paint</td>\n",
       "      <td>ART_AND_DESIGN</td>\n",
       "      <td>4.5</td>\n",
       "      <td>215644</td>\n",
       "      <td>25M</td>\n",
       "      <td>50,000,000+</td>\n",
       "      <td>Free</td>\n",
       "      <td>0</td>\n",
       "      <td>Teen</td>\n",
       "      <td>Art &amp; Design</td>\n",
       "      <td>June 8, 2018</td>\n",
       "      <td>Varies with device</td>\n",
       "      <td>4.2 and up</td>\n",
       "    </tr>\n",
       "    <tr>\n",
       "      <th>4</th>\n",
       "      <td>Pixel Draw - Number Art Coloring Book</td>\n",
       "      <td>ART_AND_DESIGN</td>\n",
       "      <td>4.3</td>\n",
       "      <td>967</td>\n",
       "      <td>2.8M</td>\n",
       "      <td>100,000+</td>\n",
       "      <td>Free</td>\n",
       "      <td>0</td>\n",
       "      <td>Everyone</td>\n",
       "      <td>Art &amp; Design;Creativity</td>\n",
       "      <td>June 20, 2018</td>\n",
       "      <td>1.1</td>\n",
       "      <td>4.4 and up</td>\n",
       "    </tr>\n",
       "  </tbody>\n",
       "</table>\n",
       "</div>"
      ],
      "text/plain": [
       "                                                 App        Category  Rating  \\\n",
       "0     Photo Editor & Candy Camera & Grid & ScrapBook  ART_AND_DESIGN     4.1   \n",
       "1                                Coloring book moana  ART_AND_DESIGN     3.9   \n",
       "2  U Launcher Lite – FREE Live Cool Themes, Hide ...  ART_AND_DESIGN     4.7   \n",
       "3                              Sketch - Draw & Paint  ART_AND_DESIGN     4.5   \n",
       "4              Pixel Draw - Number Art Coloring Book  ART_AND_DESIGN     4.3   \n",
       "\n",
       "  Reviews  Size     Installs  Type Price Content Rating  \\\n",
       "0     159   19M      10,000+  Free     0       Everyone   \n",
       "1     967   14M     500,000+  Free     0       Everyone   \n",
       "2   87510  8.7M   5,000,000+  Free     0       Everyone   \n",
       "3  215644   25M  50,000,000+  Free     0           Teen   \n",
       "4     967  2.8M     100,000+  Free     0       Everyone   \n",
       "\n",
       "                      Genres      Last Updated         Current Ver  \\\n",
       "0               Art & Design   January 7, 2018               1.0.0   \n",
       "1  Art & Design;Pretend Play  January 15, 2018               2.0.0   \n",
       "2               Art & Design    August 1, 2018               1.2.4   \n",
       "3               Art & Design      June 8, 2018  Varies with device   \n",
       "4    Art & Design;Creativity     June 20, 2018                 1.1   \n",
       "\n",
       "    Android Ver  \n",
       "0  4.0.3 and up  \n",
       "1  4.0.3 and up  \n",
       "2  4.0.3 and up  \n",
       "3    4.2 and up  \n",
       "4    4.4 and up  "
      ]
     },
     "execution_count": 165,
     "metadata": {},
     "output_type": "execute_result"
    }
   ],
   "source": [
    "df = pd.read_csv(\"googleplaystore.csv\")\n",
    "df.head()"
   ]
  },
  {
   "cell_type": "code",
   "execution_count": 166,
   "id": "658d2255-920b-496e-8c56-15c0575b358c",
   "metadata": {},
   "outputs": [
    {
     "name": "stdout",
     "output_type": "stream",
     "text": [
      "<class 'pandas.core.frame.DataFrame'>\n",
      "RangeIndex: 10841 entries, 0 to 10840\n",
      "Data columns (total 13 columns):\n",
      " #   Column          Non-Null Count  Dtype  \n",
      "---  ------          --------------  -----  \n",
      " 0   App             10841 non-null  object \n",
      " 1   Category        10841 non-null  object \n",
      " 2   Rating          9367 non-null   float64\n",
      " 3   Reviews         10841 non-null  object \n",
      " 4   Size            10841 non-null  object \n",
      " 5   Installs        10841 non-null  object \n",
      " 6   Type            10840 non-null  object \n",
      " 7   Price           10841 non-null  object \n",
      " 8   Content Rating  10840 non-null  object \n",
      " 9   Genres          10841 non-null  object \n",
      " 10  Last Updated    10841 non-null  object \n",
      " 11  Current Ver     10833 non-null  object \n",
      " 12  Android Ver     10838 non-null  object \n",
      "dtypes: float64(1), object(12)\n",
      "memory usage: 1.1+ MB\n"
     ]
    }
   ],
   "source": [
    "df.info()"
   ]
  },
  {
   "cell_type": "code",
   "execution_count": 167,
   "id": "68510324-43d3-43e7-b096-13727ae76ae6",
   "metadata": {},
   "outputs": [
    {
     "data": {
      "text/html": [
       "<div>\n",
       "<style scoped>\n",
       "    .dataframe tbody tr th:only-of-type {\n",
       "        vertical-align: middle;\n",
       "    }\n",
       "\n",
       "    .dataframe tbody tr th {\n",
       "        vertical-align: top;\n",
       "    }\n",
       "\n",
       "    .dataframe thead th {\n",
       "        text-align: right;\n",
       "    }\n",
       "</style>\n",
       "<table border=\"1\" class=\"dataframe\">\n",
       "  <thead>\n",
       "    <tr style=\"text-align: right;\">\n",
       "      <th></th>\n",
       "      <th>Rating</th>\n",
       "    </tr>\n",
       "  </thead>\n",
       "  <tbody>\n",
       "    <tr>\n",
       "      <th>count</th>\n",
       "      <td>9367.000000</td>\n",
       "    </tr>\n",
       "    <tr>\n",
       "      <th>mean</th>\n",
       "      <td>4.193338</td>\n",
       "    </tr>\n",
       "    <tr>\n",
       "      <th>std</th>\n",
       "      <td>0.537431</td>\n",
       "    </tr>\n",
       "    <tr>\n",
       "      <th>min</th>\n",
       "      <td>1.000000</td>\n",
       "    </tr>\n",
       "    <tr>\n",
       "      <th>25%</th>\n",
       "      <td>4.000000</td>\n",
       "    </tr>\n",
       "    <tr>\n",
       "      <th>50%</th>\n",
       "      <td>4.300000</td>\n",
       "    </tr>\n",
       "    <tr>\n",
       "      <th>75%</th>\n",
       "      <td>4.500000</td>\n",
       "    </tr>\n",
       "    <tr>\n",
       "      <th>max</th>\n",
       "      <td>19.000000</td>\n",
       "    </tr>\n",
       "  </tbody>\n",
       "</table>\n",
       "</div>"
      ],
      "text/plain": [
       "            Rating\n",
       "count  9367.000000\n",
       "mean      4.193338\n",
       "std       0.537431\n",
       "min       1.000000\n",
       "25%       4.000000\n",
       "50%       4.300000\n",
       "75%       4.500000\n",
       "max      19.000000"
      ]
     },
     "execution_count": 167,
     "metadata": {},
     "output_type": "execute_result"
    }
   ],
   "source": [
    "df.describe()"
   ]
  },
  {
   "cell_type": "code",
   "execution_count": 168,
   "id": "e05f555f-d959-4ace-894f-ce486a29bc3f",
   "metadata": {},
   "outputs": [
    {
     "name": "stdout",
     "output_type": "stream",
     "text": [
      "There are 1181/10841 duplicated records.\n"
     ]
    }
   ],
   "source": [
    "\n",
    "n_duplicated = df.duplicated(subset=['App']).sum()\n",
    "print(\"There are {}/{} duplicated records.\".format(n_duplicated, df.shape[0]))\n",
    "df = df.drop_duplicates()\n",
    "df = df.drop_duplicates(subset='App', keep=\"first\")"
   ]
  },
  {
   "cell_type": "markdown",
   "id": "e97fb4ff-a3ca-4974-b947-8b330798d0e5",
   "metadata": {},
   "source": [
    "✅ Fix Rating\n",
    "Ensure that all ratings are within the valid range (0 to 5).\n",
    "Replace invalid values with appropriate measures (mean, median, or mode)."
   ]
  },
  {
   "cell_type": "code",
   "execution_count": 169,
   "id": "4fb046bf-b540-4908-85fa-ed115ee11a0f",
   "metadata": {},
   "outputs": [],
   "source": [
    "df['Rating'] = df['Rating'].fillna(df['Rating'].median())"
   ]
  },
  {
   "cell_type": "code",
   "execution_count": 170,
   "id": "4268eabc-4394-4d93-99a7-96e8f808a971",
   "metadata": {},
   "outputs": [
    {
     "name": "stdout",
     "output_type": "stream",
     "text": [
      "[4.1 3.9 4.7 4.5 4.3 4.4 3.8 4.2 4.6 3.2 4.  4.8 4.9 3.6 3.7 3.3 3.4 3.5\n",
      " 3.1 5.  2.6 3.  1.9 2.5 2.8 2.7 1.  2.9 2.3 2.2 1.7 2.  1.8 2.4 1.6 2.1\n",
      " 1.4 1.5 1.2]\n"
     ]
    }
   ],
   "source": [
    "df['Rating'] = df['Rating'].apply(lambda x: 5 if x > 5 else x)\n",
    "\n",
    "print(df['Rating'].unique())"
   ]
  },
  {
   "cell_type": "code",
   "execution_count": 171,
   "id": "8cc4736c-73f3-41b7-a10d-9651f00c0054",
   "metadata": {},
   "outputs": [
    {
     "data": {
      "text/html": [
       "<div>\n",
       "<style scoped>\n",
       "    .dataframe tbody tr th:only-of-type {\n",
       "        vertical-align: middle;\n",
       "    }\n",
       "\n",
       "    .dataframe tbody tr th {\n",
       "        vertical-align: top;\n",
       "    }\n",
       "\n",
       "    .dataframe thead th {\n",
       "        text-align: right;\n",
       "    }\n",
       "</style>\n",
       "<table border=\"1\" class=\"dataframe\">\n",
       "  <thead>\n",
       "    <tr style=\"text-align: right;\">\n",
       "      <th></th>\n",
       "      <th>Rating</th>\n",
       "    </tr>\n",
       "  </thead>\n",
       "  <tbody>\n",
       "    <tr>\n",
       "      <th>count</th>\n",
       "      <td>9660.000000</td>\n",
       "    </tr>\n",
       "    <tr>\n",
       "      <th>mean</th>\n",
       "      <td>4.192526</td>\n",
       "    </tr>\n",
       "    <tr>\n",
       "      <th>std</th>\n",
       "      <td>0.496439</td>\n",
       "    </tr>\n",
       "    <tr>\n",
       "      <th>min</th>\n",
       "      <td>1.000000</td>\n",
       "    </tr>\n",
       "    <tr>\n",
       "      <th>25%</th>\n",
       "      <td>4.000000</td>\n",
       "    </tr>\n",
       "    <tr>\n",
       "      <th>50%</th>\n",
       "      <td>4.300000</td>\n",
       "    </tr>\n",
       "    <tr>\n",
       "      <th>75%</th>\n",
       "      <td>4.500000</td>\n",
       "    </tr>\n",
       "    <tr>\n",
       "      <th>max</th>\n",
       "      <td>5.000000</td>\n",
       "    </tr>\n",
       "  </tbody>\n",
       "</table>\n",
       "</div>"
      ],
      "text/plain": [
       "            Rating\n",
       "count  9660.000000\n",
       "mean      4.192526\n",
       "std       0.496439\n",
       "min       1.000000\n",
       "25%       4.000000\n",
       "50%       4.300000\n",
       "75%       4.500000\n",
       "max       5.000000"
      ]
     },
     "execution_count": 171,
     "metadata": {},
     "output_type": "execute_result"
    }
   ],
   "source": [
    "df.describe()"
   ]
  },
  {
   "cell_type": "markdown",
   "id": "75198530-6cbf-44d8-8c4b-a327e530904b",
   "metadata": {},
   "source": [
    "✅ Fix Size\n",
    "Convert size values into numerical format (e.g., \"12M\" → 12,000,000 bytes).\n",
    "Handle missing or inconsistent size entries."
   ]
  },
  {
   "cell_type": "code",
   "execution_count": 172,
   "id": "25c10054-b1a7-4c85-a9ff-b1986e226a8f",
   "metadata": {},
   "outputs": [],
   "source": [
    "def fix_size(value):\n",
    "    if pd.isnull(value) or value == 'Varies with device':\n",
    "        return np.nan\n",
    "    if isinstance(value, str):  \n",
    "        value = value.replace(',', '').replace('+', '') \n",
    "        \n",
    "        if 'M' in value:\n",
    "            return float(value.replace('M', ''))\n",
    "        elif 'k' in value:\n",
    "            return float(value.replace('k', '')) * 0.001\n",
    "        else:\n",
    "            return float(value) \n",
    "    else:\n",
    "        return value  "
   ]
  },
  {
   "cell_type": "code",
   "execution_count": 173,
   "id": "079075c0-058d-438c-ba9b-5129b544fd71",
   "metadata": {},
   "outputs": [],
   "source": [
    "df['Size'] = df['Size'].apply(fix_size)\n",
    "df['Size'] = df['Size'].fillna(df['Size'].mean())"
   ]
  },
  {
   "cell_type": "code",
   "execution_count": 174,
   "id": "93e794f2-01a6-4ae0-99b4-a809e388c363",
   "metadata": {},
   "outputs": [
    {
     "name": "stdout",
     "output_type": "stream",
     "text": [
      "<class 'pandas.core.frame.DataFrame'>\n",
      "Index: 9660 entries, 0 to 10840\n",
      "Data columns (total 13 columns):\n",
      " #   Column          Non-Null Count  Dtype  \n",
      "---  ------          --------------  -----  \n",
      " 0   App             9660 non-null   object \n",
      " 1   Category        9660 non-null   object \n",
      " 2   Rating          9660 non-null   float64\n",
      " 3   Reviews         9660 non-null   object \n",
      " 4   Size            9660 non-null   float64\n",
      " 5   Installs        9660 non-null   object \n",
      " 6   Type            9659 non-null   object \n",
      " 7   Price           9660 non-null   object \n",
      " 8   Content Rating  9659 non-null   object \n",
      " 9   Genres          9660 non-null   object \n",
      " 10  Last Updated    9660 non-null   object \n",
      " 11  Current Ver     9652 non-null   object \n",
      " 12  Android Ver     9657 non-null   object \n",
      "dtypes: float64(2), object(11)\n",
      "memory usage: 1.0+ MB\n"
     ]
    }
   ],
   "source": [
    "df.info()"
   ]
  },
  {
   "cell_type": "code",
   "execution_count": 175,
   "id": "23467210-2760-4eb4-991c-03eb075e7653",
   "metadata": {},
   "outputs": [
    {
     "data": {
      "text/html": [
       "<div>\n",
       "<style scoped>\n",
       "    .dataframe tbody tr th:only-of-type {\n",
       "        vertical-align: middle;\n",
       "    }\n",
       "\n",
       "    .dataframe tbody tr th {\n",
       "        vertical-align: top;\n",
       "    }\n",
       "\n",
       "    .dataframe thead th {\n",
       "        text-align: right;\n",
       "    }\n",
       "</style>\n",
       "<table border=\"1\" class=\"dataframe\">\n",
       "  <thead>\n",
       "    <tr style=\"text-align: right;\">\n",
       "      <th></th>\n",
       "      <th>Rating</th>\n",
       "      <th>Size</th>\n",
       "    </tr>\n",
       "  </thead>\n",
       "  <tbody>\n",
       "    <tr>\n",
       "      <th>count</th>\n",
       "      <td>9660.000000</td>\n",
       "      <td>9660.000000</td>\n",
       "    </tr>\n",
       "    <tr>\n",
       "      <th>mean</th>\n",
       "      <td>4.192526</td>\n",
       "      <td>20.511453</td>\n",
       "    </tr>\n",
       "    <tr>\n",
       "      <th>std</th>\n",
       "      <td>0.496439</td>\n",
       "      <td>22.698186</td>\n",
       "    </tr>\n",
       "    <tr>\n",
       "      <th>min</th>\n",
       "      <td>1.000000</td>\n",
       "      <td>0.008500</td>\n",
       "    </tr>\n",
       "    <tr>\n",
       "      <th>25%</th>\n",
       "      <td>4.000000</td>\n",
       "      <td>5.300000</td>\n",
       "    </tr>\n",
       "    <tr>\n",
       "      <th>50%</th>\n",
       "      <td>4.300000</td>\n",
       "      <td>16.000000</td>\n",
       "    </tr>\n",
       "    <tr>\n",
       "      <th>75%</th>\n",
       "      <td>4.500000</td>\n",
       "      <td>25.000000</td>\n",
       "    </tr>\n",
       "    <tr>\n",
       "      <th>max</th>\n",
       "      <td>5.000000</td>\n",
       "      <td>1000.000000</td>\n",
       "    </tr>\n",
       "  </tbody>\n",
       "</table>\n",
       "</div>"
      ],
      "text/plain": [
       "            Rating         Size\n",
       "count  9660.000000  9660.000000\n",
       "mean      4.192526    20.511453\n",
       "std       0.496439    22.698186\n",
       "min       1.000000     0.008500\n",
       "25%       4.000000     5.300000\n",
       "50%       4.300000    16.000000\n",
       "75%       4.500000    25.000000\n",
       "max       5.000000  1000.000000"
      ]
     },
     "execution_count": 175,
     "metadata": {},
     "output_type": "execute_result"
    }
   ],
   "source": [
    "df.describe()"
   ]
  },
  {
   "cell_type": "code",
   "execution_count": 176,
   "id": "a199efac-bbdf-4ed8-8902-a7de91358cc1",
   "metadata": {},
   "outputs": [],
   "source": [
    "from sklearn.preprocessing import MinMaxScaler\n",
    "\n",
    "scaler = MinMaxScaler()\n",
    "df['Size'] = scaler.fit_transform(df[['Size']])"
   ]
  },
  {
   "cell_type": "code",
   "execution_count": 177,
   "id": "c142512b-f58d-4df5-9ece-265bea3fa6d3",
   "metadata": {},
   "outputs": [
    {
     "data": {
      "text/html": [
       "<div>\n",
       "<style scoped>\n",
       "    .dataframe tbody tr th:only-of-type {\n",
       "        vertical-align: middle;\n",
       "    }\n",
       "\n",
       "    .dataframe tbody tr th {\n",
       "        vertical-align: top;\n",
       "    }\n",
       "\n",
       "    .dataframe thead th {\n",
       "        text-align: right;\n",
       "    }\n",
       "</style>\n",
       "<table border=\"1\" class=\"dataframe\">\n",
       "  <thead>\n",
       "    <tr style=\"text-align: right;\">\n",
       "      <th></th>\n",
       "      <th>Rating</th>\n",
       "      <th>Size</th>\n",
       "    </tr>\n",
       "  </thead>\n",
       "  <tbody>\n",
       "    <tr>\n",
       "      <th>count</th>\n",
       "      <td>9660.000000</td>\n",
       "      <td>9660.000000</td>\n",
       "    </tr>\n",
       "    <tr>\n",
       "      <th>mean</th>\n",
       "      <td>4.192526</td>\n",
       "      <td>0.020503</td>\n",
       "    </tr>\n",
       "    <tr>\n",
       "      <th>std</th>\n",
       "      <td>0.496439</td>\n",
       "      <td>0.022698</td>\n",
       "    </tr>\n",
       "    <tr>\n",
       "      <th>min</th>\n",
       "      <td>1.000000</td>\n",
       "      <td>0.000000</td>\n",
       "    </tr>\n",
       "    <tr>\n",
       "      <th>25%</th>\n",
       "      <td>4.000000</td>\n",
       "      <td>0.005292</td>\n",
       "    </tr>\n",
       "    <tr>\n",
       "      <th>50%</th>\n",
       "      <td>4.300000</td>\n",
       "      <td>0.015992</td>\n",
       "    </tr>\n",
       "    <tr>\n",
       "      <th>75%</th>\n",
       "      <td>4.500000</td>\n",
       "      <td>0.024992</td>\n",
       "    </tr>\n",
       "    <tr>\n",
       "      <th>max</th>\n",
       "      <td>5.000000</td>\n",
       "      <td>1.000000</td>\n",
       "    </tr>\n",
       "  </tbody>\n",
       "</table>\n",
       "</div>"
      ],
      "text/plain": [
       "            Rating         Size\n",
       "count  9660.000000  9660.000000\n",
       "mean      4.192526     0.020503\n",
       "std       0.496439     0.022698\n",
       "min       1.000000     0.000000\n",
       "25%       4.000000     0.005292\n",
       "50%       4.300000     0.015992\n",
       "75%       4.500000     0.024992\n",
       "max       5.000000     1.000000"
      ]
     },
     "execution_count": 177,
     "metadata": {},
     "output_type": "execute_result"
    }
   ],
   "source": [
    "df.describe()"
   ]
  },
  {
   "cell_type": "markdown",
   "id": "d9813398-3a07-4b92-aff7-baadf4c7eb1a",
   "metadata": {},
   "source": [
    "✅ Fix Price\n",
    "Convert price values to a uniform numerical currency format.\n",
    "Ensure that free apps are represented as zero."
   ]
  },
  {
   "cell_type": "code",
   "execution_count": 178,
   "id": "5aed3ad6-b0fa-4f1d-bfeb-1dec4743fa76",
   "metadata": {},
   "outputs": [
    {
     "data": {
      "text/plain": [
       "array(['0', '$4.99', '$3.99', '$6.99', '$1.49', '$2.99', '$7.99', '$5.99',\n",
       "       '$3.49', '$1.99', '$9.99', '$7.49', '$0.99', '$9.00', '$5.49',\n",
       "       '$10.00', '$24.99', '$11.99', '$79.99', '$16.99', '$14.99',\n",
       "       '$1.00', '$29.99', '$12.99', '$2.49', '$10.99', '$1.50', '$19.99',\n",
       "       '$15.99', '$33.99', '$74.99', '$39.99', '$3.95', '$4.49', '$1.70',\n",
       "       '$8.99', '$2.00', '$3.88', '$25.99', '$399.99', '$17.99',\n",
       "       '$400.00', '$3.02', '$1.76', '$4.84', '$4.77', '$1.61', '$2.50',\n",
       "       '$1.59', '$6.49', '$1.29', '$5.00', '$13.99', '$299.99', '$379.99',\n",
       "       '$37.99', '$18.99', '$389.99', '$19.90', '$8.49', '$1.75',\n",
       "       '$14.00', '$4.85', '$46.99', '$109.99', '$154.99', '$3.08',\n",
       "       '$2.59', '$4.80', '$1.96', '$19.40', '$3.90', '$4.59', '$15.46',\n",
       "       '$3.04', '$4.29', '$2.60', '$3.28', '$4.60', '$28.99', '$2.95',\n",
       "       '$2.90', '$1.97', '$200.00', '$89.99', '$2.56', '$30.99', '$3.61',\n",
       "       '$394.99', '$1.26', 'Everyone', '$1.20', '$1.04'], dtype=object)"
      ]
     },
     "execution_count": 178,
     "metadata": {},
     "output_type": "execute_result"
    }
   ],
   "source": [
    "df['Price'].unique()"
   ]
  },
  {
   "cell_type": "code",
   "execution_count": 179,
   "id": "47a20061-8c94-4e4e-acfb-b7b8f419a91d",
   "metadata": {},
   "outputs": [
    {
     "data": {
      "text/plain": [
       "Price\n",
       "0          8903\n",
       "$0.99       145\n",
       "$2.99       124\n",
       "$1.99        73\n",
       "$4.99        70\n",
       "           ... \n",
       "$389.99       1\n",
       "$19.90        1\n",
       "$1.75         1\n",
       "$14.00        1\n",
       "$1.04         1\n",
       "Name: count, Length: 93, dtype: int64"
      ]
     },
     "execution_count": 179,
     "metadata": {},
     "output_type": "execute_result"
    }
   ],
   "source": [
    "df['Price'].value_counts()"
   ]
  },
  {
   "cell_type": "code",
   "execution_count": 180,
   "id": "8296b657-056d-4772-9351-8ac7640ee880",
   "metadata": {},
   "outputs": [],
   "source": [
    "def convert_price(value):\n",
    "    if pd.isnull(value):\n",
    "        return np.nan\n",
    "    if value.startswith('$'):\n",
    "        return float(value.replace('$', '').replace(',', ''))\n",
    "    if value=='0':\n",
    "        return value"
   ]
  },
  {
   "cell_type": "code",
   "execution_count": 181,
   "id": "5c0bf4f4-e975-46f8-83a8-9f864e62e571",
   "metadata": {},
   "outputs": [],
   "source": [
    "df['Price'] = df['Price'].apply(convert_price)\n",
    "df[\"Price\"] = pd.to_numeric(df[\"Price\"], errors='coerce')"
   ]
  },
  {
   "cell_type": "code",
   "execution_count": 182,
   "id": "54a87da7-38b5-40ab-b484-b6eddb57d0b3",
   "metadata": {},
   "outputs": [
    {
     "data": {
      "text/plain": [
       "array([  0.  ,   4.99,   3.99,   6.99,   1.49,   2.99,   7.99,   5.99,\n",
       "         3.49,   1.99,   9.99,   7.49,   0.99,   9.  ,   5.49,  10.  ,\n",
       "        24.99,  11.99,  79.99,  16.99,  14.99,   1.  ,  29.99,  12.99,\n",
       "         2.49,  10.99,   1.5 ,  19.99,  15.99,  33.99,  74.99,  39.99,\n",
       "         3.95,   4.49,   1.7 ,   8.99,   2.  ,   3.88,  25.99, 399.99,\n",
       "        17.99, 400.  ,   3.02,   1.76,   4.84,   4.77,   1.61,   2.5 ,\n",
       "         1.59,   6.49,   1.29,   5.  ,  13.99, 299.99, 379.99,  37.99,\n",
       "        18.99, 389.99,  19.9 ,   8.49,   1.75,  14.  ,   4.85,  46.99,\n",
       "       109.99, 154.99,   3.08,   2.59,   4.8 ,   1.96,  19.4 ,   3.9 ,\n",
       "         4.59,  15.46,   3.04,   4.29,   2.6 ,   3.28,   4.6 ,  28.99,\n",
       "         2.95,   2.9 ,   1.97, 200.  ,  89.99,   2.56,  30.99,   3.61,\n",
       "       394.99,   1.26,    nan,   1.2 ,   1.04])"
      ]
     },
     "execution_count": 182,
     "metadata": {},
     "output_type": "execute_result"
    }
   ],
   "source": [
    "df[\"Price\"].unique()"
   ]
  },
  {
   "cell_type": "code",
   "execution_count": 183,
   "id": "b5219723-0cb9-43b9-86e2-349ce637754a",
   "metadata": {},
   "outputs": [],
   "source": [
    "df['Price'] = df['Price'].fillna(df['Price'].mean())"
   ]
  },
  {
   "cell_type": "code",
   "execution_count": 184,
   "id": "8068ae42-0bc3-47b5-b21f-db4d57fb4e00",
   "metadata": {},
   "outputs": [
    {
     "name": "stdout",
     "output_type": "stream",
     "text": [
      "<class 'pandas.core.frame.DataFrame'>\n",
      "Index: 9660 entries, 0 to 10840\n",
      "Data columns (total 13 columns):\n",
      " #   Column          Non-Null Count  Dtype  \n",
      "---  ------          --------------  -----  \n",
      " 0   App             9660 non-null   object \n",
      " 1   Category        9660 non-null   object \n",
      " 2   Rating          9660 non-null   float64\n",
      " 3   Reviews         9660 non-null   object \n",
      " 4   Size            9660 non-null   float64\n",
      " 5   Installs        9660 non-null   object \n",
      " 6   Type            9659 non-null   object \n",
      " 7   Price           9660 non-null   float64\n",
      " 8   Content Rating  9659 non-null   object \n",
      " 9   Genres          9660 non-null   object \n",
      " 10  Last Updated    9660 non-null   object \n",
      " 11  Current Ver     9652 non-null   object \n",
      " 12  Android Ver     9657 non-null   object \n",
      "dtypes: float64(3), object(10)\n",
      "memory usage: 1.0+ MB\n"
     ]
    }
   ],
   "source": [
    "df.info()"
   ]
  },
  {
   "cell_type": "code",
   "execution_count": 185,
   "id": "958cd600-9be1-4d6a-a8bb-6145ac7d5555",
   "metadata": {},
   "outputs": [
    {
     "data": {
      "text/html": [
       "<div>\n",
       "<style scoped>\n",
       "    .dataframe tbody tr th:only-of-type {\n",
       "        vertical-align: middle;\n",
       "    }\n",
       "\n",
       "    .dataframe tbody tr th {\n",
       "        vertical-align: top;\n",
       "    }\n",
       "\n",
       "    .dataframe thead th {\n",
       "        text-align: right;\n",
       "    }\n",
       "</style>\n",
       "<table border=\"1\" class=\"dataframe\">\n",
       "  <thead>\n",
       "    <tr style=\"text-align: right;\">\n",
       "      <th></th>\n",
       "      <th>Rating</th>\n",
       "      <th>Size</th>\n",
       "      <th>Price</th>\n",
       "    </tr>\n",
       "  </thead>\n",
       "  <tbody>\n",
       "    <tr>\n",
       "      <th>count</th>\n",
       "      <td>9660.000000</td>\n",
       "      <td>9660.000000</td>\n",
       "      <td>9660.000000</td>\n",
       "    </tr>\n",
       "    <tr>\n",
       "      <th>mean</th>\n",
       "      <td>4.192526</td>\n",
       "      <td>0.020503</td>\n",
       "      <td>1.099299</td>\n",
       "    </tr>\n",
       "    <tr>\n",
       "      <th>std</th>\n",
       "      <td>0.496439</td>\n",
       "      <td>0.022698</td>\n",
       "      <td>16.851280</td>\n",
       "    </tr>\n",
       "    <tr>\n",
       "      <th>min</th>\n",
       "      <td>1.000000</td>\n",
       "      <td>0.000000</td>\n",
       "      <td>0.000000</td>\n",
       "    </tr>\n",
       "    <tr>\n",
       "      <th>25%</th>\n",
       "      <td>4.000000</td>\n",
       "      <td>0.005292</td>\n",
       "      <td>0.000000</td>\n",
       "    </tr>\n",
       "    <tr>\n",
       "      <th>50%</th>\n",
       "      <td>4.300000</td>\n",
       "      <td>0.015992</td>\n",
       "      <td>0.000000</td>\n",
       "    </tr>\n",
       "    <tr>\n",
       "      <th>75%</th>\n",
       "      <td>4.500000</td>\n",
       "      <td>0.024992</td>\n",
       "      <td>0.000000</td>\n",
       "    </tr>\n",
       "    <tr>\n",
       "      <th>max</th>\n",
       "      <td>5.000000</td>\n",
       "      <td>1.000000</td>\n",
       "      <td>400.000000</td>\n",
       "    </tr>\n",
       "  </tbody>\n",
       "</table>\n",
       "</div>"
      ],
      "text/plain": [
       "            Rating         Size        Price\n",
       "count  9660.000000  9660.000000  9660.000000\n",
       "mean      4.192526     0.020503     1.099299\n",
       "std       0.496439     0.022698    16.851280\n",
       "min       1.000000     0.000000     0.000000\n",
       "25%       4.000000     0.005292     0.000000\n",
       "50%       4.300000     0.015992     0.000000\n",
       "75%       4.500000     0.024992     0.000000\n",
       "max       5.000000     1.000000   400.000000"
      ]
     },
     "execution_count": 185,
     "metadata": {},
     "output_type": "execute_result"
    }
   ],
   "source": [
    "df.describe()"
   ]
  },
  {
   "cell_type": "code",
   "execution_count": 186,
   "id": "3939f670-c859-475a-ae7d-7a70f7433536",
   "metadata": {},
   "outputs": [
    {
     "data": {
      "text/plain": [
       "Price\n",
       "0.00      8903\n",
       "0.99       145\n",
       "2.99       124\n",
       "1.99        73\n",
       "4.99        70\n",
       "          ... \n",
       "389.99       1\n",
       "19.90        1\n",
       "1.75         1\n",
       "14.00        1\n",
       "1.04         1\n",
       "Name: count, Length: 93, dtype: int64"
      ]
     },
     "execution_count": 186,
     "metadata": {},
     "output_type": "execute_result"
    }
   ],
   "source": [
    "df['Price'].value_counts()"
   ]
  },
  {
   "cell_type": "code",
   "execution_count": 187,
   "id": "8d3d3072-1fa2-44f1-ad95-360348fbb998",
   "metadata": {},
   "outputs": [
    {
     "data": {
      "text/plain": [
       "<Axes: xlabel='Price', ylabel='Count'>"
      ]
     },
     "execution_count": 187,
     "metadata": {},
     "output_type": "execute_result"
    },
    {
     "data": {
      "image/png": "[encoded data removed]",
      "text/plain": [
       "<Figure size 640x480 with 1 Axes>"
      ]
     },
     "metadata": {},
     "output_type": "display_data"
    }
   ],
   "source": [
    "import seaborn as sns\n",
    "sns.histplot(df['Price'])"
   ]
  },
  {
   "cell_type": "code",
   "execution_count": 188,
   "id": "5918e69c-a4b7-4856-b0a6-77cf616cfcfe",
   "metadata": {},
   "outputs": [
    {
     "name": "stdout",
     "output_type": "stream",
     "text": [
      "✅ All free apps have a price of 0.\n"
     ]
    }
   ],
   "source": [
    "mismatch = df[(df['Type'] == 'Free') & (df['Price'] != 0)]\n",
    "\n",
    "if mismatch.empty:\n",
    "   print(\"✅ All free apps have a price of 0.\")\n",
    "else:\n",
    "   print(\"⚠️ Mismatched cases:\")\n",
    "   print(mismatch[['Type', 'Price']])"
   ]
  },
  {
   "cell_type": "code",
   "execution_count": 189,
   "id": "f8e65345-5675-479f-9d17-88d4d36506ab",
   "metadata": {},
   "outputs": [
    {
     "name": "stdout",
     "output_type": "stream",
     "text": [
      "Empty DataFrame\n",
      "Columns: [App, Category, Rating, Reviews, Size, Installs, Type, Price, Content Rating, Genres, Last Updated, Current Ver, Android Ver]\n",
      "Index: []\n",
      " Number of rows : 0\n"
     ]
    }
   ],
   "source": [
    "paid_zero_df = df[(df['Type'] == 'Paid') & (df['Price'] == 0)]\n",
    "print(paid_zero_df)\n",
    "print(f\" Number of rows : {len(paid_zero_df)}\")"
   ]
  },
  {
   "cell_type": "code",
   "execution_count": 190,
   "id": "2f8a0fa2-516a-4005-8c96-e9915ce50d1d",
   "metadata": {},
   "outputs": [
    {
     "data": {
      "text/html": [
       "<div>\n",
       "<style scoped>\n",
       "    .dataframe tbody tr th:only-of-type {\n",
       "        vertical-align: middle;\n",
       "    }\n",
       "\n",
       "    .dataframe tbody tr th {\n",
       "        vertical-align: top;\n",
       "    }\n",
       "\n",
       "    .dataframe thead th {\n",
       "        text-align: right;\n",
       "    }\n",
       "</style>\n",
       "<table border=\"1\" class=\"dataframe\">\n",
       "  <thead>\n",
       "    <tr style=\"text-align: right;\">\n",
       "      <th></th>\n",
       "      <th>Rating</th>\n",
       "      <th>Size</th>\n",
       "      <th>Price</th>\n",
       "    </tr>\n",
       "  </thead>\n",
       "  <tbody>\n",
       "    <tr>\n",
       "      <th>count</th>\n",
       "      <td>9660.000000</td>\n",
       "      <td>9660.000000</td>\n",
       "      <td>9660.000000</td>\n",
       "    </tr>\n",
       "    <tr>\n",
       "      <th>mean</th>\n",
       "      <td>4.192526</td>\n",
       "      <td>0.020503</td>\n",
       "      <td>1.099299</td>\n",
       "    </tr>\n",
       "    <tr>\n",
       "      <th>std</th>\n",
       "      <td>0.496439</td>\n",
       "      <td>0.022698</td>\n",
       "      <td>16.851280</td>\n",
       "    </tr>\n",
       "    <tr>\n",
       "      <th>min</th>\n",
       "      <td>1.000000</td>\n",
       "      <td>0.000000</td>\n",
       "      <td>0.000000</td>\n",
       "    </tr>\n",
       "    <tr>\n",
       "      <th>25%</th>\n",
       "      <td>4.000000</td>\n",
       "      <td>0.005292</td>\n",
       "      <td>0.000000</td>\n",
       "    </tr>\n",
       "    <tr>\n",
       "      <th>50%</th>\n",
       "      <td>4.300000</td>\n",
       "      <td>0.015992</td>\n",
       "      <td>0.000000</td>\n",
       "    </tr>\n",
       "    <tr>\n",
       "      <th>75%</th>\n",
       "      <td>4.500000</td>\n",
       "      <td>0.024992</td>\n",
       "      <td>0.000000</td>\n",
       "    </tr>\n",
       "    <tr>\n",
       "      <th>max</th>\n",
       "      <td>5.000000</td>\n",
       "      <td>1.000000</td>\n",
       "      <td>400.000000</td>\n",
       "    </tr>\n",
       "  </tbody>\n",
       "</table>\n",
       "</div>"
      ],
      "text/plain": [
       "            Rating         Size        Price\n",
       "count  9660.000000  9660.000000  9660.000000\n",
       "mean      4.192526     0.020503     1.099299\n",
       "std       0.496439     0.022698    16.851280\n",
       "min       1.000000     0.000000     0.000000\n",
       "25%       4.000000     0.005292     0.000000\n",
       "50%       4.300000     0.015992     0.000000\n",
       "75%       4.500000     0.024992     0.000000\n",
       "max       5.000000     1.000000   400.000000"
      ]
     },
     "execution_count": 190,
     "metadata": {},
     "output_type": "execute_result"
    }
   ],
   "source": [
    "df.describe()"
   ]
  },
  {
   "cell_type": "markdown",
   "id": "68ca19a2-dc84-476c-b41c-f2b41638f23d",
   "metadata": {},
   "source": [
    "✅ Fix Category\n",
    "Standardize category names (remove typos and inconsistencies).\n",
    "Handle missing categories by assigning the most common category if appropriate."
   ]
  },
  {
   "cell_type": "code",
   "execution_count": 191,
   "id": "5416561d-3001-436c-b559-2ee2b8725ee8",
   "metadata": {},
   "outputs": [
    {
     "data": {
      "text/plain": [
       "Category\n",
       "FAMILY                 1832\n",
       "GAME                    959\n",
       "TOOLS                   827\n",
       "BUSINESS                420\n",
       "MEDICAL                 395\n",
       "PERSONALIZATION         376\n",
       "PRODUCTIVITY            374\n",
       "LIFESTYLE               369\n",
       "FINANCE                 345\n",
       "SPORTS                  325\n",
       "COMMUNICATION           315\n",
       "HEALTH_AND_FITNESS      288\n",
       "PHOTOGRAPHY             281\n",
       "NEWS_AND_MAGAZINES      254\n",
       "SOCIAL                  239\n",
       "BOOKS_AND_REFERENCE     222\n",
       "TRAVEL_AND_LOCAL        219\n",
       "SHOPPING                202\n",
       "DATING                  171\n",
       "VIDEO_PLAYERS           163\n",
       "MAPS_AND_NAVIGATION     131\n",
       "EDUCATION               119\n",
       "FOOD_AND_DRINK          112\n",
       "ENTERTAINMENT           102\n",
       "AUTO_AND_VEHICLES        85\n",
       "LIBRARIES_AND_DEMO       84\n",
       "WEATHER                  79\n",
       "HOUSE_AND_HOME           74\n",
       "ART_AND_DESIGN           64\n",
       "EVENTS                   64\n",
       "PARENTING                60\n",
       "COMICS                   56\n",
       "BEAUTY                   53\n",
       "1.9                       1\n",
       "Name: count, dtype: int64"
      ]
     },
     "execution_count": 191,
     "metadata": {},
     "output_type": "execute_result"
    }
   ],
   "source": [
    "df['Category'].value_counts()"
   ]
  },
  {
   "cell_type": "code",
   "execution_count": 192,
   "id": "61ccd7b0-39f1-4011-9340-d313be04eafb",
   "metadata": {},
   "outputs": [
    {
     "name": "stdout",
     "output_type": "stream",
     "text": [
      "<class 'pandas.core.frame.DataFrame'>\n",
      "Index: 9659 entries, 0 to 10840\n",
      "Data columns (total 13 columns):\n",
      " #   Column          Non-Null Count  Dtype  \n",
      "---  ------          --------------  -----  \n",
      " 0   App             9659 non-null   object \n",
      " 1   Category        9659 non-null   object \n",
      " 2   Rating          9659 non-null   float64\n",
      " 3   Reviews         9659 non-null   object \n",
      " 4   Size            9659 non-null   float64\n",
      " 5   Installs        9659 non-null   object \n",
      " 6   Type            9658 non-null   object \n",
      " 7   Price           9659 non-null   float64\n",
      " 8   Content Rating  9659 non-null   object \n",
      " 9   Genres          9659 non-null   object \n",
      " 10  Last Updated    9659 non-null   object \n",
      " 11  Current Ver     9651 non-null   object \n",
      " 12  Android Ver     9657 non-null   object \n",
      "dtypes: float64(3), object(10)\n",
      "memory usage: 1.0+ MB\n"
     ]
    }
   ],
   "source": [
    "df = df[~df['Category'].str.match(r'^\\d+(\\.\\d+)?$', na=False)]\n",
    "df.info()"
   ]
  },
  {
   "cell_type": "code",
   "execution_count": 193,
   "id": "ab77e017-1b99-42d6-8d3a-13064b22e752",
   "metadata": {},
   "outputs": [
    {
     "name": "stdout",
     "output_type": "stream",
     "text": [
      "['Art And Design' 'Auto And Vehicles' 'Beauty' 'Books And Reference'\n",
      " 'Business' 'Comics' 'Communication' 'Dating' 'Education' 'Entertainment'\n",
      " 'Events' 'Finance' 'Food And Drink' 'Health And Fitness' 'House And Home'\n",
      " 'Libraries And Demo' 'Lifestyle' 'Game' 'Family' 'Medical' 'Social'\n",
      " 'Shopping' 'Photography' 'Sports' 'Travel And Local' 'Tools'\n",
      " 'Personalization' 'Productivity' 'Parenting' 'Weather' 'Video Players'\n",
      " 'News And Magazines' 'Maps And Navigation']\n"
     ]
    }
   ],
   "source": [
    "df['Category'] = df['Category'].str.replace('_', ' ').str.title()\n",
    "\n",
    "df['Category'] = df['Category'].str.strip()\n",
    "\n",
    "unique_categories = df['Category'].unique()\n",
    "print(unique_categories)"
   ]
  },
  {
   "cell_type": "markdown",
   "id": "3359d0e9-6122-4c98-83d4-90eab7ec3bc2",
   "metadata": {},
   "source": [
    "✅ Fix Android Version\n",
    "Ensure Android version numbers follow a valid format (e.g., \"4.1 and up\").\n",
    "Handle missing values by assigning the minimum version that can support the app."
   ]
  },
  {
   "cell_type": "code",
   "execution_count": 194,
   "id": "82a4398b-f9d1-49ae-983f-b6b3ba3526ca",
   "metadata": {},
   "outputs": [
    {
     "data": {
      "text/plain": [
       "array(['4.0.3 and up', '4.2 and up', '4.4 and up', '2.3 and up',\n",
       "       '3.0 and up', '4.1 and up', '4.0 and up', '2.3.3 and up',\n",
       "       'Varies with device', '2.2 and up', '5.0 and up', '6.0 and up',\n",
       "       '1.6 and up', '1.5 and up', '2.1 and up', '7.0 and up',\n",
       "       '5.1 and up', '4.3 and up', '4.0.3 - 7.1.1', '2.0 and up',\n",
       "       '3.2 and up', '4.4W and up', '7.1 and up', '7.0 - 7.1.1',\n",
       "       '8.0 and up', '5.0 - 8.0', '3.1 and up', '2.0.1 and up',\n",
       "       '4.1 - 7.1.1', nan, '5.0 - 6.0', '1.0 and up', '2.2 - 7.1.1',\n",
       "       '5.0 - 7.1.1'], dtype=object)"
      ]
     },
     "execution_count": 194,
     "metadata": {},
     "output_type": "execute_result"
    }
   ],
   "source": [
    "df['Android Ver'].unique()"
   ]
  },
  {
   "cell_type": "code",
   "execution_count": 195,
   "id": "a0eb7b58-e777-4594-a2ff-56a890647b59",
   "metadata": {},
   "outputs": [],
   "source": [
    "df['Android Ver'] = df['Android Ver'].astype(str).str.extract(r'(\\d+\\.\\d{1})')[0]\n",
    "df['Android Ver'] = pd.to_numeric(df['Android Ver'], errors='coerce')"
   ]
  },
  {
   "cell_type": "code",
   "execution_count": 196,
   "id": "dc7f3953-164a-46d8-a60a-d3161f0c00ae",
   "metadata": {},
   "outputs": [
    {
     "data": {
      "text/html": [
       "<div>\n",
       "<style scoped>\n",
       "    .dataframe tbody tr th:only-of-type {\n",
       "        vertical-align: middle;\n",
       "    }\n",
       "\n",
       "    .dataframe tbody tr th {\n",
       "        vertical-align: top;\n",
       "    }\n",
       "\n",
       "    .dataframe thead th {\n",
       "        text-align: right;\n",
       "    }\n",
       "</style>\n",
       "<table border=\"1\" class=\"dataframe\">\n",
       "  <thead>\n",
       "    <tr style=\"text-align: right;\">\n",
       "      <th></th>\n",
       "      <th>App</th>\n",
       "      <th>Category</th>\n",
       "      <th>Rating</th>\n",
       "      <th>Reviews</th>\n",
       "      <th>Size</th>\n",
       "      <th>Installs</th>\n",
       "      <th>Type</th>\n",
       "      <th>Price</th>\n",
       "      <th>Content Rating</th>\n",
       "      <th>Genres</th>\n",
       "      <th>Last Updated</th>\n",
       "      <th>Current Ver</th>\n",
       "      <th>Android Ver</th>\n",
       "    </tr>\n",
       "  </thead>\n",
       "  <tbody>\n",
       "    <tr>\n",
       "      <th>15</th>\n",
       "      <td>Learn To Draw Kawaii Characters</td>\n",
       "      <td>Art And Design</td>\n",
       "      <td>3.2</td>\n",
       "      <td>55</td>\n",
       "      <td>0.002692</td>\n",
       "      <td>5,000+</td>\n",
       "      <td>Free</td>\n",
       "      <td>0.0</td>\n",
       "      <td>Everyone</td>\n",
       "      <td>Art &amp; Design</td>\n",
       "      <td>June 6, 2018</td>\n",
       "      <td>NaN</td>\n",
       "      <td>4.2</td>\n",
       "    </tr>\n",
       "    <tr>\n",
       "      <th>42</th>\n",
       "      <td>Textgram - write on photos</td>\n",
       "      <td>Art And Design</td>\n",
       "      <td>4.4</td>\n",
       "      <td>295221</td>\n",
       "      <td>0.020503</td>\n",
       "      <td>10,000,000+</td>\n",
       "      <td>Free</td>\n",
       "      <td>0.0</td>\n",
       "      <td>Everyone</td>\n",
       "      <td>Art &amp; Design</td>\n",
       "      <td>July 30, 2018</td>\n",
       "      <td>Varies with device</td>\n",
       "      <td>NaN</td>\n",
       "    </tr>\n",
       "    <tr>\n",
       "      <th>52</th>\n",
       "      <td>Used Cars and Trucks for Sale</td>\n",
       "      <td>Auto And Vehicles</td>\n",
       "      <td>4.6</td>\n",
       "      <td>17057</td>\n",
       "      <td>0.020503</td>\n",
       "      <td>1,000,000+</td>\n",
       "      <td>Free</td>\n",
       "      <td>0.0</td>\n",
       "      <td>Everyone</td>\n",
       "      <td>Auto &amp; Vehicles</td>\n",
       "      <td>July 30, 2018</td>\n",
       "      <td>Varies with device</td>\n",
       "      <td>NaN</td>\n",
       "    </tr>\n",
       "    <tr>\n",
       "      <th>67</th>\n",
       "      <td>Ulysse Speedometer</td>\n",
       "      <td>Auto And Vehicles</td>\n",
       "      <td>4.3</td>\n",
       "      <td>40211</td>\n",
       "      <td>0.020503</td>\n",
       "      <td>5,000,000+</td>\n",
       "      <td>Free</td>\n",
       "      <td>0.0</td>\n",
       "      <td>Everyone</td>\n",
       "      <td>Auto &amp; Vehicles</td>\n",
       "      <td>July 30, 2018</td>\n",
       "      <td>Varies with device</td>\n",
       "      <td>NaN</td>\n",
       "    </tr>\n",
       "    <tr>\n",
       "      <th>68</th>\n",
       "      <td>REPUVE</td>\n",
       "      <td>Auto And Vehicles</td>\n",
       "      <td>3.9</td>\n",
       "      <td>356</td>\n",
       "      <td>0.020503</td>\n",
       "      <td>100,000+</td>\n",
       "      <td>Free</td>\n",
       "      <td>0.0</td>\n",
       "      <td>Everyone</td>\n",
       "      <td>Auto &amp; Vehicles</td>\n",
       "      <td>May 25, 2018</td>\n",
       "      <td>Varies with device</td>\n",
       "      <td>NaN</td>\n",
       "    </tr>\n",
       "    <tr>\n",
       "      <th>...</th>\n",
       "      <td>...</td>\n",
       "      <td>...</td>\n",
       "      <td>...</td>\n",
       "      <td>...</td>\n",
       "      <td>...</td>\n",
       "      <td>...</td>\n",
       "      <td>...</td>\n",
       "      <td>...</td>\n",
       "      <td>...</td>\n",
       "      <td>...</td>\n",
       "      <td>...</td>\n",
       "      <td>...</td>\n",
       "      <td>...</td>\n",
       "    </tr>\n",
       "    <tr>\n",
       "      <th>10713</th>\n",
       "      <td>My Earthquake Alerts - US &amp; Worldwide Earthquakes</td>\n",
       "      <td>Weather</td>\n",
       "      <td>4.4</td>\n",
       "      <td>3471</td>\n",
       "      <td>0.020503</td>\n",
       "      <td>100,000+</td>\n",
       "      <td>Free</td>\n",
       "      <td>0.0</td>\n",
       "      <td>Everyone</td>\n",
       "      <td>Weather</td>\n",
       "      <td>July 24, 2018</td>\n",
       "      <td>Varies with device</td>\n",
       "      <td>NaN</td>\n",
       "    </tr>\n",
       "    <tr>\n",
       "      <th>10765</th>\n",
       "      <td>Chat For Strangers - Video Chat</td>\n",
       "      <td>Social</td>\n",
       "      <td>3.4</td>\n",
       "      <td>622</td>\n",
       "      <td>0.020503</td>\n",
       "      <td>100,000+</td>\n",
       "      <td>Free</td>\n",
       "      <td>0.0</td>\n",
       "      <td>Mature 17+</td>\n",
       "      <td>Social</td>\n",
       "      <td>May 23, 2018</td>\n",
       "      <td>Varies with device</td>\n",
       "      <td>NaN</td>\n",
       "    </tr>\n",
       "    <tr>\n",
       "      <th>10826</th>\n",
       "      <td>Frim: get new friends on local chat rooms</td>\n",
       "      <td>Social</td>\n",
       "      <td>4.0</td>\n",
       "      <td>88486</td>\n",
       "      <td>0.020503</td>\n",
       "      <td>5,000,000+</td>\n",
       "      <td>Free</td>\n",
       "      <td>0.0</td>\n",
       "      <td>Mature 17+</td>\n",
       "      <td>Social</td>\n",
       "      <td>March 23, 2018</td>\n",
       "      <td>Varies with device</td>\n",
       "      <td>NaN</td>\n",
       "    </tr>\n",
       "    <tr>\n",
       "      <th>10839</th>\n",
       "      <td>The SCP Foundation DB fr nn5n</td>\n",
       "      <td>Books And Reference</td>\n",
       "      <td>4.5</td>\n",
       "      <td>114</td>\n",
       "      <td>0.020503</td>\n",
       "      <td>1,000+</td>\n",
       "      <td>Free</td>\n",
       "      <td>0.0</td>\n",
       "      <td>Mature 17+</td>\n",
       "      <td>Books &amp; Reference</td>\n",
       "      <td>January 19, 2015</td>\n",
       "      <td>Varies with device</td>\n",
       "      <td>NaN</td>\n",
       "    </tr>\n",
       "    <tr>\n",
       "      <th>10840</th>\n",
       "      <td>iHoroscope - 2018 Daily Horoscope &amp; Astrology</td>\n",
       "      <td>Lifestyle</td>\n",
       "      <td>4.5</td>\n",
       "      <td>398307</td>\n",
       "      <td>0.018992</td>\n",
       "      <td>10,000,000+</td>\n",
       "      <td>Free</td>\n",
       "      <td>0.0</td>\n",
       "      <td>Everyone</td>\n",
       "      <td>Lifestyle</td>\n",
       "      <td>July 25, 2018</td>\n",
       "      <td>Varies with device</td>\n",
       "      <td>NaN</td>\n",
       "    </tr>\n",
       "  </tbody>\n",
       "</table>\n",
       "<p>1000 rows × 13 columns</p>\n",
       "</div>"
      ],
      "text/plain": [
       "                                                     App             Category  \\\n",
       "15                       Learn To Draw Kawaii Characters       Art And Design   \n",
       "42                            Textgram - write on photos       Art And Design   \n",
       "52                         Used Cars and Trucks for Sale    Auto And Vehicles   \n",
       "67                                    Ulysse Speedometer    Auto And Vehicles   \n",
       "68                                                REPUVE    Auto And Vehicles   \n",
       "...                                                  ...                  ...   \n",
       "10713  My Earthquake Alerts - US & Worldwide Earthquakes              Weather   \n",
       "10765                    Chat For Strangers - Video Chat               Social   \n",
       "10826          Frim: get new friends on local chat rooms               Social   \n",
       "10839                      The SCP Foundation DB fr nn5n  Books And Reference   \n",
       "10840      iHoroscope - 2018 Daily Horoscope & Astrology            Lifestyle   \n",
       "\n",
       "       Rating Reviews      Size     Installs  Type  Price Content Rating  \\\n",
       "15        3.2      55  0.002692       5,000+  Free    0.0       Everyone   \n",
       "42        4.4  295221  0.020503  10,000,000+  Free    0.0       Everyone   \n",
       "52        4.6   17057  0.020503   1,000,000+  Free    0.0       Everyone   \n",
       "67        4.3   40211  0.020503   5,000,000+  Free    0.0       Everyone   \n",
       "68        3.9     356  0.020503     100,000+  Free    0.0       Everyone   \n",
       "...       ...     ...       ...          ...   ...    ...            ...   \n",
       "10713     4.4    3471  0.020503     100,000+  Free    0.0       Everyone   \n",
       "10765     3.4     622  0.020503     100,000+  Free    0.0     Mature 17+   \n",
       "10826     4.0   88486  0.020503   5,000,000+  Free    0.0     Mature 17+   \n",
       "10839     4.5     114  0.020503       1,000+  Free    0.0     Mature 17+   \n",
       "10840     4.5  398307  0.018992  10,000,000+  Free    0.0       Everyone   \n",
       "\n",
       "                  Genres      Last Updated         Current Ver  Android Ver  \n",
       "15          Art & Design      June 6, 2018                 NaN          4.2  \n",
       "42          Art & Design     July 30, 2018  Varies with device          NaN  \n",
       "52       Auto & Vehicles     July 30, 2018  Varies with device          NaN  \n",
       "67       Auto & Vehicles     July 30, 2018  Varies with device          NaN  \n",
       "68       Auto & Vehicles      May 25, 2018  Varies with device          NaN  \n",
       "...                  ...               ...                 ...          ...  \n",
       "10713            Weather     July 24, 2018  Varies with device          NaN  \n",
       "10765             Social      May 23, 2018  Varies with device          NaN  \n",
       "10826             Social    March 23, 2018  Varies with device          NaN  \n",
       "10839  Books & Reference  January 19, 2015  Varies with device          NaN  \n",
       "10840          Lifestyle     July 25, 2018  Varies with device          NaN  \n",
       "\n",
       "[1000 rows x 13 columns]"
      ]
     },
     "execution_count": 196,
     "metadata": {},
     "output_type": "execute_result"
    }
   ],
   "source": [
    "df[df.isna().any(axis=1)]"
   ]
  },
  {
   "cell_type": "code",
   "execution_count": 197,
   "id": "8da7bb31-4269-46c2-b495-819e6db24e7c",
   "metadata": {},
   "outputs": [],
   "source": [
    "df['Android Ver'] = df['Android Ver'].fillna(df['Android Ver'].min())"
   ]
  },
  {
   "cell_type": "code",
   "execution_count": 198,
   "id": "1e0b251a-ede6-4d76-b09e-63081b67f038",
   "metadata": {},
   "outputs": [
    {
     "name": "stdout",
     "output_type": "stream",
     "text": [
      "<class 'pandas.core.frame.DataFrame'>\n",
      "Index: 9659 entries, 0 to 10840\n",
      "Data columns (total 13 columns):\n",
      " #   Column          Non-Null Count  Dtype  \n",
      "---  ------          --------------  -----  \n",
      " 0   App             9659 non-null   object \n",
      " 1   Category        9659 non-null   object \n",
      " 2   Rating          9659 non-null   float64\n",
      " 3   Reviews         9659 non-null   object \n",
      " 4   Size            9659 non-null   float64\n",
      " 5   Installs        9659 non-null   object \n",
      " 6   Type            9658 non-null   object \n",
      " 7   Price           9659 non-null   float64\n",
      " 8   Content Rating  9659 non-null   object \n",
      " 9   Genres          9659 non-null   object \n",
      " 10  Last Updated    9659 non-null   object \n",
      " 11  Current Ver     9651 non-null   object \n",
      " 12  Android Ver     9659 non-null   float64\n",
      "dtypes: float64(4), object(9)\n",
      "memory usage: 1.0+ MB\n"
     ]
    }
   ],
   "source": [
    "df.info()"
   ]
  },
  {
   "cell_type": "markdown",
   "id": "b3442cff-ebc6-41f8-8a0a-672bb803e8fa",
   "metadata": {},
   "source": [
    "✅ Fix Current Version"
   ]
  },
  {
   "cell_type": "code",
   "execution_count": 199,
   "id": "2400d38c-59c7-4872-b23e-f6faaadf4ce4",
   "metadata": {},
   "outputs": [
    {
     "name": "stdout",
     "output_type": "stream",
     "text": [
      "[  nan  1.1   1.    2.8   3.8   3.1   4.    1.5   1.03  6.    1.2   2.2\n",
      "  1.6   2.1   1.3   1.46 10.    3.    2.49  1.7   1.37  2.9   1.79  8.31\n",
      "  1.4   2.17  1.9   5.4   8.    1.15  2.    1.91  3.12  1.28  3.05  3.3\n",
      "  4.9   1.08  1.01  5.2   6.1   7.73  4.98  7.21  3.47  1.29  2.3   1.64\n",
      "  2.45  1.23  4.3   1.55  1.17  2.4   2.5   8.2   4.2   3.52  3.7   4.81\n",
      "  4.1   2.24  2.48  2.09  5.    1.16  1.02  7.3   8.06  8.1   4.43  8.4\n",
      "  1.57  1.75  1.11  1.14  8.18  4.63  2.13  5.1   2.12  7.12  4.26  5.23\n",
      "  2.6   3.4   3.48  5.3   4.4   6.7   7.    3.22  1.92  7.4   3.6   1.04\n",
      "  1.8   5.28  9.    5.8   2.15  4.35  5.66  3.5   5.06  1.24  1.93  1.76\n",
      "  6.2   3.15  1.49  2.7   1.73  2.18  7.32  1.18  1.22  1.47  3.49  1.19\n",
      "  7.5   3.46  2.29  3.19  4.36  5.11  6.6   0.1   1.12  5.51  2.69  2.16\n",
      "  4.89  7.36  3.9   6.21  4.47  1.43  1.32  4.7   3.2   4.5   4.21  6.71\n",
      "  6.5   5.5   5.9   7.1   5.48  4.6   5.36  1.51  1.33  1.13  2.85  2.41\n",
      "  6.07  2.32  8.9   1.78  2.71  5.17  8.3   9.1   5.38  5.7   1.39  4.76\n",
      "  8.6   1.58  1.05  1.52  1.35  1.09  2.23  2.14  5.26  2.44  3.01  1.53\n",
      "  5.21  7.46  1.42  9.55  2.07  3.42  0.11  2.03  2.31  1.07  1.36  1.06\n",
      "  8.8   0.16  3.04  1.94  4.54  2.92  3.11  1.62  2.94  1.77  1.26  1.25\n",
      "  4.16  2.01  0.8   0.33  1.54  2.11  7.2   6.4   1.38  2.25  7.8   4.05\n",
      "  1.85  2.04  1.48  2.42  2.55  3.55  2.22  5.54  2.53  2.28  2.21  1.21\n",
      "  0.12  3.61  2.02  7.6   4.8   1.31  4.72  1.98  1.41  4.11  6.95  0.7\n",
      "  2.47  2.46  2.38  3.82  6.24  0.99  3.21  4.84  1.82  2.79  7.7   4.38\n",
      "  3.29  2.95  4.75  1.56  1.67  5.19  5.03  2.05  1.96  3.67  0.2   2.98\n",
      "  6.93  0.5   3.16  1.44  0.22  3.98  8.5   1.27  2.51  0.35  1.95  6.08\n",
      "  3.33  0.62  3.45  5.13  8.02  0.3   0.6   3.07  6.11  2.08  1.59  2.96\n",
      "  3.08  0.59  2.52  7.95  3.95  0.9   0.24  0.86  2.27  3.36  8.7   1.74\n",
      "  1.72  6.04]\n"
     ]
    }
   ],
   "source": [
    "df['Current Ver'] = pd.to_numeric(df['Current Ver'], errors='coerce')\n",
    "\n",
    "df['Current Ver'] = df['Current Ver'].round(2)\n",
    "\n",
    "max_reasonable_version = 10.0  \n",
    "df['Current Ver'] = np.where(df['Current Ver'] > max_reasonable_version, max_reasonable_version, df['Current Ver'])\n",
    "\n",
    "print(df['Current Ver'].unique())"
   ]
  },
  {
   "cell_type": "code",
   "execution_count": 200,
   "id": "9f1baa5e-77b7-4a5c-b710-437d7f3fe008",
   "metadata": {},
   "outputs": [
    {
     "name": "stdout",
     "output_type": "stream",
     "text": [
      "<class 'pandas.core.frame.DataFrame'>\n",
      "Index: 9659 entries, 0 to 10840\n",
      "Data columns (total 13 columns):\n",
      " #   Column          Non-Null Count  Dtype  \n",
      "---  ------          --------------  -----  \n",
      " 0   App             9659 non-null   object \n",
      " 1   Category        9659 non-null   object \n",
      " 2   Rating          9659 non-null   float64\n",
      " 3   Reviews         9659 non-null   object \n",
      " 4   Size            9659 non-null   float64\n",
      " 5   Installs        9659 non-null   object \n",
      " 6   Type            9658 non-null   object \n",
      " 7   Price           9659 non-null   float64\n",
      " 8   Content Rating  9659 non-null   object \n",
      " 9   Genres          9659 non-null   object \n",
      " 10  Last Updated    9659 non-null   object \n",
      " 11  Current Ver     3447 non-null   float64\n",
      " 12  Android Ver     9659 non-null   float64\n",
      "dtypes: float64(5), object(8)\n",
      "memory usage: 1.0+ MB\n"
     ]
    }
   ],
   "source": [
    "df.info()"
   ]
  },
  {
   "cell_type": "code",
   "execution_count": 201,
   "id": "046f530b-5889-4e00-ab63-d0a2df5b5d60",
   "metadata": {},
   "outputs": [],
   "source": [
    "df['Current Ver'] = df['Current Ver'].fillna(df['Current Ver'].mode()[0])"
   ]
  },
  {
   "cell_type": "code",
   "execution_count": 202,
   "id": "05d3acc2-cf23-4343-b9b7-f204c2e4e3ef",
   "metadata": {},
   "outputs": [
    {
     "name": "stdout",
     "output_type": "stream",
     "text": [
      "<class 'pandas.core.frame.DataFrame'>\n",
      "Index: 9659 entries, 0 to 10840\n",
      "Data columns (total 13 columns):\n",
      " #   Column          Non-Null Count  Dtype  \n",
      "---  ------          --------------  -----  \n",
      " 0   App             9659 non-null   object \n",
      " 1   Category        9659 non-null   object \n",
      " 2   Rating          9659 non-null   float64\n",
      " 3   Reviews         9659 non-null   object \n",
      " 4   Size            9659 non-null   float64\n",
      " 5   Installs        9659 non-null   object \n",
      " 6   Type            9658 non-null   object \n",
      " 7   Price           9659 non-null   float64\n",
      " 8   Content Rating  9659 non-null   object \n",
      " 9   Genres          9659 non-null   object \n",
      " 10  Last Updated    9659 non-null   object \n",
      " 11  Current Ver     9659 non-null   float64\n",
      " 12  Android Ver     9659 non-null   float64\n",
      "dtypes: float64(5), object(8)\n",
      "memory usage: 1.0+ MB\n"
     ]
    }
   ],
   "source": [
    "df.info()"
   ]
  },
  {
   "cell_type": "code",
   "execution_count": 203,
   "id": "efc66ff5-602e-4384-b76f-200037821638",
   "metadata": {},
   "outputs": [
    {
     "data": {
      "text/html": [
       "<div>\n",
       "<style scoped>\n",
       "    .dataframe tbody tr th:only-of-type {\n",
       "        vertical-align: middle;\n",
       "    }\n",
       "\n",
       "    .dataframe tbody tr th {\n",
       "        vertical-align: top;\n",
       "    }\n",
       "\n",
       "    .dataframe thead th {\n",
       "        text-align: right;\n",
       "    }\n",
       "</style>\n",
       "<table border=\"1\" class=\"dataframe\">\n",
       "  <thead>\n",
       "    <tr style=\"text-align: right;\">\n",
       "      <th></th>\n",
       "      <th>Rating</th>\n",
       "      <th>Size</th>\n",
       "      <th>Price</th>\n",
       "      <th>Current Ver</th>\n",
       "      <th>Android Ver</th>\n",
       "    </tr>\n",
       "  </thead>\n",
       "  <tbody>\n",
       "    <tr>\n",
       "      <th>count</th>\n",
       "      <td>9659.000000</td>\n",
       "      <td>9659.000000</td>\n",
       "      <td>9659.000000</td>\n",
       "      <td>9659.000000</td>\n",
       "      <td>9659.000000</td>\n",
       "    </tr>\n",
       "    <tr>\n",
       "      <th>mean</th>\n",
       "      <td>4.192442</td>\n",
       "      <td>0.020402</td>\n",
       "      <td>1.099299</td>\n",
       "      <td>1.527329</td>\n",
       "      <td>3.549632</td>\n",
       "    </tr>\n",
       "    <tr>\n",
       "      <th>std</th>\n",
       "      <td>0.496397</td>\n",
       "      <td>0.020394</td>\n",
       "      <td>16.852152</td>\n",
       "      <td>1.585977</td>\n",
       "      <td>1.181630</td>\n",
       "    </tr>\n",
       "    <tr>\n",
       "      <th>min</th>\n",
       "      <td>1.000000</td>\n",
       "      <td>0.000000</td>\n",
       "      <td>0.000000</td>\n",
       "      <td>0.100000</td>\n",
       "      <td>1.000000</td>\n",
       "    </tr>\n",
       "    <tr>\n",
       "      <th>25%</th>\n",
       "      <td>4.000000</td>\n",
       "      <td>0.005292</td>\n",
       "      <td>0.000000</td>\n",
       "      <td>1.000000</td>\n",
       "      <td>2.300000</td>\n",
       "    </tr>\n",
       "    <tr>\n",
       "      <th>50%</th>\n",
       "      <td>4.300000</td>\n",
       "      <td>0.015992</td>\n",
       "      <td>0.000000</td>\n",
       "      <td>1.000000</td>\n",
       "      <td>4.000000</td>\n",
       "    </tr>\n",
       "    <tr>\n",
       "      <th>75%</th>\n",
       "      <td>4.500000</td>\n",
       "      <td>0.024992</td>\n",
       "      <td>0.000000</td>\n",
       "      <td>1.100000</td>\n",
       "      <td>4.100000</td>\n",
       "    </tr>\n",
       "    <tr>\n",
       "      <th>max</th>\n",
       "      <td>5.000000</td>\n",
       "      <td>0.099992</td>\n",
       "      <td>400.000000</td>\n",
       "      <td>10.000000</td>\n",
       "      <td>8.000000</td>\n",
       "    </tr>\n",
       "  </tbody>\n",
       "</table>\n",
       "</div>"
      ],
      "text/plain": [
       "            Rating         Size        Price  Current Ver  Android Ver\n",
       "count  9659.000000  9659.000000  9659.000000  9659.000000  9659.000000\n",
       "mean      4.192442     0.020402     1.099299     1.527329     3.549632\n",
       "std       0.496397     0.020394    16.852152     1.585977     1.181630\n",
       "min       1.000000     0.000000     0.000000     0.100000     1.000000\n",
       "25%       4.000000     0.005292     0.000000     1.000000     2.300000\n",
       "50%       4.300000     0.015992     0.000000     1.000000     4.000000\n",
       "75%       4.500000     0.024992     0.000000     1.100000     4.100000\n",
       "max       5.000000     0.099992   400.000000    10.000000     8.000000"
      ]
     },
     "execution_count": 203,
     "metadata": {},
     "output_type": "execute_result"
    }
   ],
   "source": [
    "df.describe()"
   ]
  },
  {
   "cell_type": "code",
   "execution_count": 204,
   "id": "bbbde69d-6cd8-41c7-8167-a6ace9387894",
   "metadata": {},
   "outputs": [
    {
     "data": {
      "image/png": "[encoded data removed]",
      "text/plain": [
       "<Figure size 800x500 with 1 Axes>"
      ]
     },
     "metadata": {},
     "output_type": "display_data"
    }
   ],
   "source": [
    "import matplotlib.pyplot as plt\n",
    "\n",
    "plt.figure(figsize=(8, 5))\n",
    "df['Current Ver'].hist(bins=30, color='skyblue', edgecolor='black')\n",
    "plt.title('Distribution of Current Versions')\n",
    "plt.xlabel('Current Version')\n",
    "plt.ylabel('Frequency')\n",
    "plt.show() "
   ]
  },
  {
   "cell_type": "markdown",
   "id": "afd98888-7159-46b6-ba96-770cf87d4e77",
   "metadata": {},
   "source": [
    "✅ Fix Installs"
   ]
  },
  {
   "cell_type": "code",
   "execution_count": 205,
   "id": "a557c7f9-2339-4b33-a3aa-967df68b025c",
   "metadata": {},
   "outputs": [
    {
     "data": {
      "text/plain": [
       "array(['10,000+', '500,000+', '5,000,000+', '50,000,000+', '100,000+',\n",
       "       '50,000+', '1,000,000+', '10,000,000+', '5,000+', '100,000,000+',\n",
       "       '1,000,000,000+', '1,000+', '500,000,000+', '50+', '100+', '500+',\n",
       "       '10+', '1+', '5+', '0+', '0'], dtype=object)"
      ]
     },
     "execution_count": 205,
     "metadata": {},
     "output_type": "execute_result"
    }
   ],
   "source": [
    "df['Installs'].unique()"
   ]
  },
  {
   "cell_type": "code",
   "execution_count": 206,
   "id": "210eb6fa-8fcb-4d3b-87a7-faf1e78f190f",
   "metadata": {},
   "outputs": [
    {
     "data": {
      "text/plain": [
       "Installs\n",
       "1000000       1417\n",
       "100000        1112\n",
       "10000         1031\n",
       "10000000       937\n",
       "1000           888\n",
       "100            710\n",
       "5000000        607\n",
       "500000         505\n",
       "50000          469\n",
       "5000           468\n",
       "10             385\n",
       "500            328\n",
       "50             204\n",
       "50000000       202\n",
       "100000000      188\n",
       "5               82\n",
       "1               67\n",
       "500000000       24\n",
       "1000000000      20\n",
       "0               15\n",
       "Name: count, dtype: int64"
      ]
     },
     "execution_count": 206,
     "metadata": {},
     "output_type": "execute_result"
    }
   ],
   "source": [
    "df.Installs=df.Installs.apply(lambda x: x.strip('+'))\n",
    "df.Installs=df.Installs.apply(lambda x: x.replace(',',''))\n",
    "df.Installs=df.Installs.replace('Free',np.nan)\n",
    "df.Installs.value_counts()"
   ]
  },
  {
   "cell_type": "code",
   "execution_count": 207,
   "id": "a4be1c48-235f-41ce-ba82-ad7c045afd81",
   "metadata": {},
   "outputs": [],
   "source": [
    "df['Installs'] = pd.to_numeric(df['Installs'], errors='coerce')"
   ]
  },
  {
   "cell_type": "markdown",
   "id": "022fe776-3366-4fb2-a6d1-acc882082aee",
   "metadata": {},
   "source": [
    "\n",
    "✅ Fix Reviews"
   ]
  },
  {
   "cell_type": "code",
   "execution_count": 208,
   "id": "05987de4-290f-45f9-9f9c-445f8592a97a",
   "metadata": {},
   "outputs": [
    {
     "data": {
      "text/plain": [
       "array(['159', '967', '87510', ..., '603', '1195', '398307'], dtype=object)"
      ]
     },
     "execution_count": 208,
     "metadata": {},
     "output_type": "execute_result"
    }
   ],
   "source": [
    "df['Reviews'].unique()"
   ]
  },
  {
   "cell_type": "code",
   "execution_count": 209,
   "id": "1dd06ad5-8b33-4cea-a1b2-892dd793ee1e",
   "metadata": {},
   "outputs": [
    {
     "data": {
      "text/plain": [
       "Reviews\n",
       "0         593\n",
       "1         272\n",
       "2         213\n",
       "3         170\n",
       "4         137\n",
       "         ... \n",
       "157506      1\n",
       "351254      1\n",
       "49211       1\n",
       "88860       1\n",
       "398307      1\n",
       "Name: count, Length: 5330, dtype: int64"
      ]
     },
     "execution_count": 209,
     "metadata": {},
     "output_type": "execute_result"
    }
   ],
   "source": [
    "df['Reviews'].value_counts()"
   ]
  },
  {
   "cell_type": "code",
   "execution_count": 210,
   "id": "078abcf3-8d6d-4e5a-93b5-efb8d0c2282b",
   "metadata": {},
   "outputs": [],
   "source": [
    "df['Reviews'] = pd.to_numeric(df['Reviews'], errors='coerce') \n",
    "df['Reviews'] = df['Reviews'].fillna(df['Reviews'].median())"
   ]
  },
  {
   "cell_type": "code",
   "execution_count": 211,
   "id": "7c63369e-aca5-4501-b916-cedbc885ad96",
   "metadata": {},
   "outputs": [
    {
     "name": "stdout",
     "output_type": "stream",
     "text": [
      "<class 'pandas.core.frame.DataFrame'>\n",
      "Index: 9659 entries, 0 to 10840\n",
      "Data columns (total 13 columns):\n",
      " #   Column          Non-Null Count  Dtype  \n",
      "---  ------          --------------  -----  \n",
      " 0   App             9659 non-null   object \n",
      " 1   Category        9659 non-null   object \n",
      " 2   Rating          9659 non-null   float64\n",
      " 3   Reviews         9659 non-null   int64  \n",
      " 4   Size            9659 non-null   float64\n",
      " 5   Installs        9659 non-null   int64  \n",
      " 6   Type            9658 non-null   object \n",
      " 7   Price           9659 non-null   float64\n",
      " 8   Content Rating  9659 non-null   object \n",
      " 9   Genres          9659 non-null   object \n",
      " 10  Last Updated    9659 non-null   object \n",
      " 11  Current Ver     9659 non-null   float64\n",
      " 12  Android Ver     9659 non-null   float64\n",
      "dtypes: float64(5), int64(2), object(6)\n",
      "memory usage: 1.0+ MB\n"
     ]
    }
   ],
   "source": [
    "df.info()"
   ]
  },
  {
   "cell_type": "markdown",
   "id": "11d700b6-bd0a-40f4-b2de-8020993a0953",
   "metadata": {},
   "source": [
    "✅ Fix Type"
   ]
  },
  {
   "cell_type": "code",
   "execution_count": 212,
   "id": "58a24f25-f943-41d6-b355-eff0adddde4a",
   "metadata": {},
   "outputs": [
    {
     "data": {
      "text/plain": [
       "array(['Free', 'Paid', nan], dtype=object)"
      ]
     },
     "execution_count": 212,
     "metadata": {},
     "output_type": "execute_result"
    }
   ],
   "source": [
    "df['Type'].unique()"
   ]
  },
  {
   "cell_type": "code",
   "execution_count": 213,
   "id": "ccf99e09-cea6-4919-af46-be62689a0a45",
   "metadata": {},
   "outputs": [],
   "source": [
    "df['Type'] = df['Type'].fillna('Free')"
   ]
  },
  {
   "cell_type": "markdown",
   "id": "2432d54a-0704-41c8-ae24-e592d45fa3af",
   "metadata": {},
   "source": [
    "✅ Outlier Detection and Handling"
   ]
  },
  {
   "cell_type": "code",
   "execution_count": 214,
   "id": "81e5d07f-04f2-42ae-b860-c3749e96e71f",
   "metadata": {},
   "outputs": [
    {
     "data": {
      "image/png": "[encoded data removed]",
      "text/plain": [
       "<Figure size 1200x500 with 1 Axes>"
      ]
     },
     "metadata": {},
     "output_type": "display_data"
    }
   ],
   "source": [
    "import seaborn as sns\n",
    "import matplotlib.pyplot as plt\n",
    "\n",
    "plt.figure(figsize=(12, 5)) \n",
    "sns.boxplot(df)\n",
    "plt.show()"
   ]
  },
  {
   "cell_type": "code",
   "execution_count": 215,
   "id": "482d25fe-3783-429e-bc11-b358bd117a89",
   "metadata": {},
   "outputs": [
    {
     "name": "stdout",
     "output_type": "stream",
     "text": [
      "                                                     App        Category  \\\n",
      "2      U Launcher Lite – FREE Live Cool Themes, Hide ...  Art And Design   \n",
      "3                                  Sketch - Draw & Paint  Art And Design   \n",
      "18                         FlipaClip - Cartoon animation  Art And Design   \n",
      "19                                          ibis Paint X  Art And Design   \n",
      "42                            Textgram - write on photos  Art And Design   \n",
      "...                                                  ...             ...   \n",
      "10781                               Modern Strike Online            Game   \n",
      "10784                                         Big Hunter            Game   \n",
      "10809              Castle Clash: RPG War and Strategy FR          Family   \n",
      "10826          Frim: get new friends on local chat rooms          Social   \n",
      "10840      iHoroscope - 2018 Daily Horoscope & Astrology       Lifestyle   \n",
      "\n",
      "       Rating  Reviews      Size  Installs  Type  Price Content Rating  \\\n",
      "2         4.7    87510  0.008692   5000000  Free    0.0       Everyone   \n",
      "3         4.5   215644  0.024992  50000000  Free    0.0           Teen   \n",
      "18        4.3   194216  0.038992   5000000  Free    0.0       Everyone   \n",
      "19        4.6   224399  0.030992  10000000  Free    0.0       Everyone   \n",
      "42        4.4   295221  0.020503  10000000  Free    0.0       Everyone   \n",
      "...       ...      ...       ...       ...   ...    ...            ...   \n",
      "10781     4.3   834117  0.043992  10000000  Free    0.0           Teen   \n",
      "10784     4.3   245455  0.083992  10000000  Free    0.0   Everyone 10+   \n",
      "10809     4.7   376223  0.023992   1000000  Free    0.0       Everyone   \n",
      "10826     4.0    88486  0.020503   5000000  Free    0.0     Mature 17+   \n",
      "10840     4.5   398307  0.018992  10000000  Free    0.0       Everyone   \n",
      "\n",
      "             Genres    Last Updated  Current Ver  Android Ver  \n",
      "2      Art & Design  August 1, 2018          1.0          4.0  \n",
      "3      Art & Design    June 8, 2018          1.0          4.2  \n",
      "18     Art & Design  August 3, 2018          1.0          4.0  \n",
      "19     Art & Design   July 30, 2018          1.0          4.1  \n",
      "42     Art & Design   July 30, 2018          1.0          1.0  \n",
      "...             ...             ...          ...          ...  \n",
      "10781        Action   July 30, 2018          1.0          4.1  \n",
      "10784        Action    May 31, 2018          1.0          4.0  \n",
      "10809      Strategy   July 18, 2018          1.0          4.1  \n",
      "10826        Social  March 23, 2018          1.0          1.0  \n",
      "10840     Lifestyle   July 25, 2018          1.0          1.0  \n",
      "\n",
      "[1656 rows x 13 columns]\n"
     ]
    }
   ],
   "source": [
    "Q1 = df['Reviews'].quantile(0.25)\n",
    "Q3 = df['Reviews'].quantile(0.75)\n",
    "IQR = Q3 - Q1\n",
    "\n",
    "lower_bound = Q1 - 1.5 * IQR\n",
    "upper_bound = Q3 + 1.5 * IQR\n",
    "\n",
    "outliers = df[(df['Reviews'] < lower_bound) | (df['Reviews'] > upper_bound)]\n",
    "\n",
    "print(outliers)\n",
    "\n",
    "df_cleaned = df[(df['Reviews'] >= lower_bound) & (df['Reviews'] <= upper_bound)]\n",
    "\n",
    "df['Reviews'] = df['Reviews'].apply(lambda x: Q3 if x > upper_bound else x)"
   ]
  },
  {
   "cell_type": "code",
   "execution_count": 216,
   "id": "4de9c51b-a676-4d23-9b4e-1e45013c3e9a",
   "metadata": {},
   "outputs": [],
   "source": [
    "Q1 = df['Installs'].quantile(0.25)\n",
    "Q3 = df['Installs'].quantile(0.75)\n",
    "IQR = Q3 - Q1\n",
    "upper_limit = Q3 + 1.5 * IQR\n",
    "\n",
    "df['Installs'] = np.where(df['Installs'] > upper_limit, upper_limit, df['Installs'])"
   ]
  },
  {
   "cell_type": "code",
   "execution_count": 217,
   "id": "15f9f56d-90f5-45a2-ad5c-ebd533e56a8e",
   "metadata": {},
   "outputs": [
    {
     "data": {
      "text/html": [
       "<div>\n",
       "<style scoped>\n",
       "    .dataframe tbody tr th:only-of-type {\n",
       "        vertical-align: middle;\n",
       "    }\n",
       "\n",
       "    .dataframe tbody tr th {\n",
       "        vertical-align: top;\n",
       "    }\n",
       "\n",
       "    .dataframe thead th {\n",
       "        text-align: right;\n",
       "    }\n",
       "</style>\n",
       "<table border=\"1\" class=\"dataframe\">\n",
       "  <thead>\n",
       "    <tr style=\"text-align: right;\">\n",
       "      <th></th>\n",
       "      <th>Rating</th>\n",
       "      <th>Reviews</th>\n",
       "      <th>Size</th>\n",
       "      <th>Installs</th>\n",
       "      <th>Price</th>\n",
       "      <th>Current Ver</th>\n",
       "      <th>Android Ver</th>\n",
       "    </tr>\n",
       "  </thead>\n",
       "  <tbody>\n",
       "    <tr>\n",
       "      <th>count</th>\n",
       "      <td>9659.000000</td>\n",
       "      <td>9659.000000</td>\n",
       "      <td>9659.000000</td>\n",
       "      <td>9.659000e+03</td>\n",
       "      <td>9659.000000</td>\n",
       "      <td>9659.000000</td>\n",
       "      <td>9659.000000</td>\n",
       "    </tr>\n",
       "    <tr>\n",
       "      <th>mean</th>\n",
       "      <td>4.192442</td>\n",
       "      <td>11073.073507</td>\n",
       "      <td>0.020402</td>\n",
       "      <td>6.998624e+05</td>\n",
       "      <td>1.099299</td>\n",
       "      <td>1.527329</td>\n",
       "      <td>3.549632</td>\n",
       "    </tr>\n",
       "    <tr>\n",
       "      <th>std</th>\n",
       "      <td>0.496397</td>\n",
       "      <td>15782.951850</td>\n",
       "      <td>0.020394</td>\n",
       "      <td>9.745296e+05</td>\n",
       "      <td>16.852152</td>\n",
       "      <td>1.585977</td>\n",
       "      <td>1.181630</td>\n",
       "    </tr>\n",
       "    <tr>\n",
       "      <th>min</th>\n",
       "      <td>1.000000</td>\n",
       "      <td>0.000000</td>\n",
       "      <td>0.000000</td>\n",
       "      <td>0.000000e+00</td>\n",
       "      <td>0.000000</td>\n",
       "      <td>0.100000</td>\n",
       "      <td>1.000000</td>\n",
       "    </tr>\n",
       "    <tr>\n",
       "      <th>25%</th>\n",
       "      <td>4.000000</td>\n",
       "      <td>25.000000</td>\n",
       "      <td>0.005292</td>\n",
       "      <td>1.000000e+03</td>\n",
       "      <td>0.000000</td>\n",
       "      <td>1.000000</td>\n",
       "      <td>2.300000</td>\n",
       "    </tr>\n",
       "    <tr>\n",
       "      <th>50%</th>\n",
       "      <td>4.300000</td>\n",
       "      <td>967.000000</td>\n",
       "      <td>0.015992</td>\n",
       "      <td>1.000000e+05</td>\n",
       "      <td>0.000000</td>\n",
       "      <td>1.000000</td>\n",
       "      <td>4.000000</td>\n",
       "    </tr>\n",
       "    <tr>\n",
       "      <th>75%</th>\n",
       "      <td>4.500000</td>\n",
       "      <td>29394.000000</td>\n",
       "      <td>0.024992</td>\n",
       "      <td>1.000000e+06</td>\n",
       "      <td>0.000000</td>\n",
       "      <td>1.100000</td>\n",
       "      <td>4.100000</td>\n",
       "    </tr>\n",
       "    <tr>\n",
       "      <th>max</th>\n",
       "      <td>5.000000</td>\n",
       "      <td>73404.000000</td>\n",
       "      <td>0.099992</td>\n",
       "      <td>2.498500e+06</td>\n",
       "      <td>400.000000</td>\n",
       "      <td>10.000000</td>\n",
       "      <td>8.000000</td>\n",
       "    </tr>\n",
       "  </tbody>\n",
       "</table>\n",
       "</div>"
      ],
      "text/plain": [
       "            Rating       Reviews         Size      Installs        Price  \\\n",
       "count  9659.000000   9659.000000  9659.000000  9.659000e+03  9659.000000   \n",
       "mean      4.192442  11073.073507     0.020402  6.998624e+05     1.099299   \n",
       "std       0.496397  15782.951850     0.020394  9.745296e+05    16.852152   \n",
       "min       1.000000      0.000000     0.000000  0.000000e+00     0.000000   \n",
       "25%       4.000000     25.000000     0.005292  1.000000e+03     0.000000   \n",
       "50%       4.300000    967.000000     0.015992  1.000000e+05     0.000000   \n",
       "75%       4.500000  29394.000000     0.024992  1.000000e+06     0.000000   \n",
       "max       5.000000  73404.000000     0.099992  2.498500e+06   400.000000   \n",
       "\n",
       "       Current Ver  Android Ver  \n",
       "count  9659.000000  9659.000000  \n",
       "mean      1.527329     3.549632  \n",
       "std       1.585977     1.181630  \n",
       "min       0.100000     1.000000  \n",
       "25%       1.000000     2.300000  \n",
       "50%       1.000000     4.000000  \n",
       "75%       1.100000     4.100000  \n",
       "max      10.000000     8.000000  "
      ]
     },
     "execution_count": 217,
     "metadata": {},
     "output_type": "execute_result"
    }
   ],
   "source": [
    "df.describe()"
   ]
  },
  {
   "cell_type": "code",
   "execution_count": 218,
   "id": "47cfcd3c-715c-4636-a9da-df3d63de5dc0",
   "metadata": {},
   "outputs": [
    {
     "data": {
      "image/png": "[encoded data removed]",
      "text/plain": [
       "<Figure size 1200x400 with 1 Axes>"
      ]
     },
     "metadata": {},
     "output_type": "display_data"
    }
   ],
   "source": [
    "import seaborn as sns\n",
    "import matplotlib.pyplot as plt\n",
    "\n",
    "plt.figure(figsize=(12, 4)) \n",
    "sns.boxplot(df)\n",
    "plt.show()"
   ]
  },
  {
   "cell_type": "code",
   "execution_count": 219,
   "id": "b7e37eee-1255-4d5a-98d4-44d255e2e647",
   "metadata": {},
   "outputs": [
    {
     "data": {
      "text/html": [
       "<div>\n",
       "<style scoped>\n",
       "    .dataframe tbody tr th:only-of-type {\n",
       "        vertical-align: middle;\n",
       "    }\n",
       "\n",
       "    .dataframe tbody tr th {\n",
       "        vertical-align: top;\n",
       "    }\n",
       "\n",
       "    .dataframe thead th {\n",
       "        text-align: right;\n",
       "    }\n",
       "</style>\n",
       "<table border=\"1\" class=\"dataframe\">\n",
       "  <thead>\n",
       "    <tr style=\"text-align: right;\">\n",
       "      <th></th>\n",
       "      <th>App</th>\n",
       "      <th>Category</th>\n",
       "      <th>Rating</th>\n",
       "      <th>Reviews</th>\n",
       "      <th>Size</th>\n",
       "      <th>Installs</th>\n",
       "      <th>Type</th>\n",
       "      <th>Price</th>\n",
       "      <th>Content Rating</th>\n",
       "      <th>Genres</th>\n",
       "      <th>Last Updated</th>\n",
       "      <th>Current Ver</th>\n",
       "      <th>Android Ver</th>\n",
       "    </tr>\n",
       "  </thead>\n",
       "  <tbody>\n",
       "    <tr>\n",
       "      <th>1585</th>\n",
       "      <td>Anime Avatar Creator: Make Your Own Avatar</td>\n",
       "      <td>Lifestyle</td>\n",
       "      <td>4.2</td>\n",
       "      <td>10944.0</td>\n",
       "      <td>0.035992</td>\n",
       "      <td>1000000.0</td>\n",
       "      <td>Free</td>\n",
       "      <td>0.0</td>\n",
       "      <td>Everyone</td>\n",
       "      <td>Lifestyle</td>\n",
       "      <td>June 15, 2018</td>\n",
       "      <td>2.00</td>\n",
       "      <td>4.1</td>\n",
       "    </tr>\n",
       "    <tr>\n",
       "      <th>5939</th>\n",
       "      <td>Cafe.ba</td>\n",
       "      <td>News And Magazines</td>\n",
       "      <td>4.0</td>\n",
       "      <td>677.0</td>\n",
       "      <td>0.004392</td>\n",
       "      <td>10000.0</td>\n",
       "      <td>Free</td>\n",
       "      <td>0.0</td>\n",
       "      <td>Everyone</td>\n",
       "      <td>News &amp; Magazines</td>\n",
       "      <td>June 7, 2017</td>\n",
       "      <td>1.00</td>\n",
       "      <td>4.0</td>\n",
       "    </tr>\n",
       "    <tr>\n",
       "      <th>7888</th>\n",
       "      <td>CT CONNECT</td>\n",
       "      <td>Productivity</td>\n",
       "      <td>4.3</td>\n",
       "      <td>2.0</td>\n",
       "      <td>0.027992</td>\n",
       "      <td>50.0</td>\n",
       "      <td>Free</td>\n",
       "      <td>0.0</td>\n",
       "      <td>Everyone</td>\n",
       "      <td>Productivity</td>\n",
       "      <td>August 8, 2017</td>\n",
       "      <td>1.00</td>\n",
       "      <td>4.1</td>\n",
       "    </tr>\n",
       "    <tr>\n",
       "      <th>9159</th>\n",
       "      <td>Bejeweled Blitz</td>\n",
       "      <td>Family</td>\n",
       "      <td>4.2</td>\n",
       "      <td>29401.0</td>\n",
       "      <td>0.097992</td>\n",
       "      <td>2498500.0</td>\n",
       "      <td>Free</td>\n",
       "      <td>0.0</td>\n",
       "      <td>Everyone</td>\n",
       "      <td>Puzzle</td>\n",
       "      <td>August 1, 2018</td>\n",
       "      <td>1.00</td>\n",
       "      <td>4.0</td>\n",
       "    </tr>\n",
       "    <tr>\n",
       "      <th>2060</th>\n",
       "      <td>Rhythm Patrol</td>\n",
       "      <td>Family</td>\n",
       "      <td>4.3</td>\n",
       "      <td>4207.0</td>\n",
       "      <td>0.025992</td>\n",
       "      <td>100000.0</td>\n",
       "      <td>Free</td>\n",
       "      <td>0.0</td>\n",
       "      <td>Everyone</td>\n",
       "      <td>Music;Music &amp; Video</td>\n",
       "      <td>July 23, 2018</td>\n",
       "      <td>2.18</td>\n",
       "      <td>4.1</td>\n",
       "    </tr>\n",
       "    <tr>\n",
       "      <th>3321</th>\n",
       "      <td>VPN - Fast, Secure &amp; Unlimited WiFi with VyprVPN</td>\n",
       "      <td>Tools</td>\n",
       "      <td>4.2</td>\n",
       "      <td>40676.0</td>\n",
       "      <td>0.024992</td>\n",
       "      <td>1000000.0</td>\n",
       "      <td>Free</td>\n",
       "      <td>0.0</td>\n",
       "      <td>Everyone</td>\n",
       "      <td>Tools</td>\n",
       "      <td>July 5, 2018</td>\n",
       "      <td>1.00</td>\n",
       "      <td>4.1</td>\n",
       "    </tr>\n",
       "    <tr>\n",
       "      <th>1025</th>\n",
       "      <td>Summer Madness</td>\n",
       "      <td>Events</td>\n",
       "      <td>4.3</td>\n",
       "      <td>4.0</td>\n",
       "      <td>0.001392</td>\n",
       "      <td>100.0</td>\n",
       "      <td>Free</td>\n",
       "      <td>0.0</td>\n",
       "      <td>Everyone</td>\n",
       "      <td>Events</td>\n",
       "      <td>July 26, 2018</td>\n",
       "      <td>1.11</td>\n",
       "      <td>4.0</td>\n",
       "    </tr>\n",
       "    <tr>\n",
       "      <th>876</th>\n",
       "      <td>ivi - movies and TV shows in HD</td>\n",
       "      <td>Entertainment</td>\n",
       "      <td>4.5</td>\n",
       "      <td>29401.0</td>\n",
       "      <td>0.020503</td>\n",
       "      <td>2498500.0</td>\n",
       "      <td>Free</td>\n",
       "      <td>0.0</td>\n",
       "      <td>Teen</td>\n",
       "      <td>Entertainment</td>\n",
       "      <td>July 31, 2018</td>\n",
       "      <td>1.00</td>\n",
       "      <td>4.2</td>\n",
       "    </tr>\n",
       "    <tr>\n",
       "      <th>2590</th>\n",
       "      <td>textPlus: Free Text &amp; Calls</td>\n",
       "      <td>Social</td>\n",
       "      <td>4.1</td>\n",
       "      <td>29401.0</td>\n",
       "      <td>0.027992</td>\n",
       "      <td>2498500.0</td>\n",
       "      <td>Free</td>\n",
       "      <td>0.0</td>\n",
       "      <td>Everyone</td>\n",
       "      <td>Social</td>\n",
       "      <td>July 26, 2018</td>\n",
       "      <td>1.00</td>\n",
       "      <td>4.1</td>\n",
       "    </tr>\n",
       "    <tr>\n",
       "      <th>1306</th>\n",
       "      <td>Fabulous: Motivate Me! Meditate, Relax, Sleep</td>\n",
       "      <td>Health And Fitness</td>\n",
       "      <td>4.6</td>\n",
       "      <td>29401.0</td>\n",
       "      <td>0.030992</td>\n",
       "      <td>2498500.0</td>\n",
       "      <td>Free</td>\n",
       "      <td>0.0</td>\n",
       "      <td>Everyone</td>\n",
       "      <td>Health &amp; Fitness</td>\n",
       "      <td>July 16, 2018</td>\n",
       "      <td>3.48</td>\n",
       "      <td>4.1</td>\n",
       "    </tr>\n",
       "  </tbody>\n",
       "</table>\n",
       "</div>"
      ],
      "text/plain": [
       "                                                   App            Category  \\\n",
       "1585        Anime Avatar Creator: Make Your Own Avatar           Lifestyle   \n",
       "5939                                           Cafe.ba  News And Magazines   \n",
       "7888                                        CT CONNECT        Productivity   \n",
       "9159                                   Bejeweled Blitz              Family   \n",
       "2060                                     Rhythm Patrol              Family   \n",
       "3321  VPN - Fast, Secure & Unlimited WiFi with VyprVPN               Tools   \n",
       "1025                                    Summer Madness              Events   \n",
       "876                    ivi - movies and TV shows in HD       Entertainment   \n",
       "2590                       textPlus: Free Text & Calls              Social   \n",
       "1306     Fabulous: Motivate Me! Meditate, Relax, Sleep  Health And Fitness   \n",
       "\n",
       "      Rating  Reviews      Size   Installs  Type  Price Content Rating  \\\n",
       "1585     4.2  10944.0  0.035992  1000000.0  Free    0.0       Everyone   \n",
       "5939     4.0    677.0  0.004392    10000.0  Free    0.0       Everyone   \n",
       "7888     4.3      2.0  0.027992       50.0  Free    0.0       Everyone   \n",
       "9159     4.2  29401.0  0.097992  2498500.0  Free    0.0       Everyone   \n",
       "2060     4.3   4207.0  0.025992   100000.0  Free    0.0       Everyone   \n",
       "3321     4.2  40676.0  0.024992  1000000.0  Free    0.0       Everyone   \n",
       "1025     4.3      4.0  0.001392      100.0  Free    0.0       Everyone   \n",
       "876      4.5  29401.0  0.020503  2498500.0  Free    0.0           Teen   \n",
       "2590     4.1  29401.0  0.027992  2498500.0  Free    0.0       Everyone   \n",
       "1306     4.6  29401.0  0.030992  2498500.0  Free    0.0       Everyone   \n",
       "\n",
       "                   Genres    Last Updated  Current Ver  Android Ver  \n",
       "1585            Lifestyle   June 15, 2018         2.00          4.1  \n",
       "5939     News & Magazines    June 7, 2017         1.00          4.0  \n",
       "7888         Productivity  August 8, 2017         1.00          4.1  \n",
       "9159               Puzzle  August 1, 2018         1.00          4.0  \n",
       "2060  Music;Music & Video   July 23, 2018         2.18          4.1  \n",
       "3321                Tools    July 5, 2018         1.00          4.1  \n",
       "1025               Events   July 26, 2018         1.11          4.0  \n",
       "876         Entertainment   July 31, 2018         1.00          4.2  \n",
       "2590               Social   July 26, 2018         1.00          4.1  \n",
       "1306     Health & Fitness   July 16, 2018         3.48          4.1  "
      ]
     },
     "execution_count": 219,
     "metadata": {},
     "output_type": "execute_result"
    }
   ],
   "source": [
    "df.sample(10)"
   ]
  },
  {
   "cell_type": "markdown",
   "id": "66b1aaca-2197-44d2-8613-1596a8942273",
   "metadata": {},
   "source": [
    "1. What is the most expensive app on the Play Store?"
   ]
  },
  {
   "cell_type": "code",
   "execution_count": 220,
   "id": "457b5a76-f4e6-4277-a8e5-59300949e6fe",
   "metadata": {},
   "outputs": [
    {
     "name": "stdout",
     "output_type": "stream",
     "text": [
      "                           App  Price\n",
      "4367  I'm Rich - Trump Edition  400.0\n"
     ]
    }
   ],
   "source": [
    "most_expensive_app = df[df['Price'] == df['Price'].max()]\n",
    "print(most_expensive_app[['App', 'Price']])"
   ]
  },
  {
   "cell_type": "markdown",
   "id": "f7755a67-00cc-4c25-aca9-85e2f82a258e",
   "metadata": {},
   "source": [
    "2. Which genre has the highest number of apps?"
   ]
  },
  {
   "cell_type": "code",
   "execution_count": 221,
   "id": "b28395b4-4b4e-473d-a329-65a4c82d60ec",
   "metadata": {},
   "outputs": [
    {
     "name": "stdout",
     "output_type": "stream",
     "text": [
      "The genre with the highest number of apps is 'Tools' with 826 apps.\n"
     ]
    }
   ],
   "source": [
    "genre_counts = df['Genres'].value_counts()\n",
    "most_common_genre = genre_counts.idxmax()\n",
    "most_common_count = genre_counts.max()\n",
    "print(f\"The genre with the highest number of apps is '{most_common_genre}' with {most_common_count} apps.\")"
   ]
  },
  {
   "cell_type": "markdown",
   "id": "5605548f-eeea-4433-a082-4f13c749a03a",
   "metadata": {},
   "source": [
    "3. What is the average size of free vs. paid apps?"
   ]
  },
  {
   "cell_type": "code",
   "execution_count": 222,
   "id": "4bb99cfd-d346-4d92-852b-2c09a8f72bae",
   "metadata": {},
   "outputs": [
    {
     "name": "stdout",
     "output_type": "stream",
     "text": [
      "Type\n",
      "Free    0.02\n",
      "Paid    0.02\n",
      "Name: Size, dtype: float64\n"
     ]
    }
   ],
   "source": [
    "df['Type'] = df['Price'].apply(lambda x: 'Free' if x == 0 else 'Paid')\n",
    "average_size = df.groupby('Type')['Size'].mean().round(2)\n",
    "print(average_size)"
   ]
  },
  {
   "cell_type": "markdown",
   "id": "a460e91b-a533-4e00-8a2f-27236aba3a5a",
   "metadata": {},
   "source": [
    "4. What are the top 5 most expensive apps with a perfect rating (5)?"
   ]
  },
  {
   "cell_type": "code",
   "execution_count": 223,
   "id": "68bda012-fe1b-4be6-876d-ea281a4cece5",
   "metadata": {},
   "outputs": [
    {
     "data": {
      "text/html": [
       "<div>\n",
       "<style scoped>\n",
       "    .dataframe tbody tr th:only-of-type {\n",
       "        vertical-align: middle;\n",
       "    }\n",
       "\n",
       "    .dataframe tbody tr th {\n",
       "        vertical-align: top;\n",
       "    }\n",
       "\n",
       "    .dataframe thead th {\n",
       "        text-align: right;\n",
       "    }\n",
       "</style>\n",
       "<table border=\"1\" class=\"dataframe\">\n",
       "  <thead>\n",
       "    <tr style=\"text-align: right;\">\n",
       "      <th></th>\n",
       "      <th>App</th>\n",
       "      <th>Price</th>\n",
       "      <th>Rating</th>\n",
       "    </tr>\n",
       "  </thead>\n",
       "  <tbody>\n",
       "    <tr>\n",
       "      <th>5489</th>\n",
       "      <td>AP Art History Flashcards</td>\n",
       "      <td>29.99</td>\n",
       "      <td>5.0</td>\n",
       "    </tr>\n",
       "    <tr>\n",
       "      <th>7477</th>\n",
       "      <td>USMLE Step 2 CK Flashcards</td>\n",
       "      <td>19.99</td>\n",
       "      <td>5.0</td>\n",
       "    </tr>\n",
       "    <tr>\n",
       "      <th>5246</th>\n",
       "      <td>Hey AJ! It's Bedtime!</td>\n",
       "      <td>4.99</td>\n",
       "      <td>5.0</td>\n",
       "    </tr>\n",
       "    <tr>\n",
       "      <th>5482</th>\n",
       "      <td>meStudying: AP English Lit</td>\n",
       "      <td>4.99</td>\n",
       "      <td>5.0</td>\n",
       "    </tr>\n",
       "    <tr>\n",
       "      <th>7204</th>\n",
       "      <td>TI-84 CE Graphing Calculator Manual TI 84</td>\n",
       "      <td>4.99</td>\n",
       "      <td>5.0</td>\n",
       "    </tr>\n",
       "  </tbody>\n",
       "</table>\n",
       "</div>"
      ],
      "text/plain": [
       "                                            App  Price  Rating\n",
       "5489                  AP Art History Flashcards  29.99     5.0\n",
       "7477                 USMLE Step 2 CK Flashcards  19.99     5.0\n",
       "5246                      Hey AJ! It's Bedtime!   4.99     5.0\n",
       "5482                 meStudying: AP English Lit   4.99     5.0\n",
       "7204  TI-84 CE Graphing Calculator Manual TI 84   4.99     5.0"
      ]
     },
     "execution_count": 223,
     "metadata": {},
     "output_type": "execute_result"
    }
   ],
   "source": [
    "perfect_rating_apps = df[df['Rating'] == 5]\n",
    "top_5_expensive_perfect = perfect_rating_apps.sort_values(by='Price', ascending=False).head(5)\n",
    "top_5_expensive_perfect[['App', 'Price', 'Rating']]"
   ]
  },
  {
   "cell_type": "markdown",
   "id": "31f8fc0b-854c-45e1-a8c7-1a9264865beb",
   "metadata": {},
   "source": [
    "5. How many apps have received more than 50K reviews?"
   ]
  },
  {
   "cell_type": "code",
   "execution_count": 224,
   "id": "93627adf-d6ef-405d-b27e-c24373a77630",
   "metadata": {},
   "outputs": [
    {
     "name": "stdout",
     "output_type": "stream",
     "text": [
      "Number of apps with more than 50K reviews: 289\n"
     ]
    }
   ],
   "source": [
    "num_apps_over_50k_reviews = df[df['Reviews'] > 50000].shape[0]\n",
    "print(f\"Number of apps with more than 50K reviews: {num_apps_over_50k_reviews}\")"
   ]
  },
  {
   "cell_type": "markdown",
   "id": "f245c089-1bc2-4f3b-a3cd-34c00e277933",
   "metadata": {},
   "source": [
    "6. What is the average price of apps, grouped by genre and number of installs?"
   ]
  },
  {
   "cell_type": "code",
   "execution_count": 225,
   "id": "f4a2b564-af5b-4d42-9f56-ba50d986a750",
   "metadata": {},
   "outputs": [
    {
     "name": "stdout",
     "output_type": "stream",
     "text": [
      "     Genres   Installs     Price\n",
      "0    Action       10.0  0.000000\n",
      "1    Action       50.0  0.663333\n",
      "2    Action      100.0  1.096000\n",
      "3    Action      500.0  0.000000\n",
      "4    Action     1000.0  0.372500\n",
      "..      ...        ...       ...\n",
      "774    Word    10000.0  0.000000\n",
      "775    Word    50000.0  0.000000\n",
      "776    Word   100000.0  0.000000\n",
      "777    Word  1000000.0  0.000000\n",
      "778    Word  2498500.0  0.000000\n",
      "\n",
      "[779 rows x 3 columns]\n"
     ]
    }
   ],
   "source": [
    "average_price_by_genre_installs = df.groupby(['Genres', 'Installs'])['Price'].mean().reset_index()\n",
    "\n",
    "print(average_price_by_genre_installs)"
   ]
  },
  {
   "cell_type": "markdown",
   "id": "c073b936-96f5-4632-8787-caf92505b83f",
   "metadata": {},
   "source": [
    "7. How many apps have a rating higher than 4.7, and what is their average price?"
   ]
  },
  {
   "cell_type": "code",
   "execution_count": 226,
   "id": "8452a429-0581-4634-9965-3201fc8f9d95",
   "metadata": {},
   "outputs": [
    {
     "name": "stdout",
     "output_type": "stream",
     "text": [
      "Number of apps with rating > 4.7: 577\n",
      "Average price of these apps: $0.46\n"
     ]
    }
   ],
   "source": [
    "high_rating_apps = df[df['Rating'] > 4.7]\n",
    "\n",
    "num_high_rating_apps = high_rating_apps.shape[0]\n",
    "\n",
    "average_price_high_rating = high_rating_apps['Price'].mean().round(2)\n",
    "\n",
    "print(f\"Number of apps with rating > 4.7: {num_high_rating_apps}\")\n",
    "print(f\"Average price of these apps: ${average_price_high_rating}\")"
   ]
  },
  {
   "cell_type": "markdown",
   "id": "5faa41ab-ddd8-4caf-835c-3e95a66e3348",
   "metadata": {},
   "source": [
    "8. What is Google's estimated revenue from apps with 5,000,000+ installs?"
   ]
  },
  {
   "cell_type": "code",
   "execution_count": 227,
   "id": "c3d24098-d761-445f-82b3-bc57704c5ce6",
   "metadata": {},
   "outputs": [
    {
     "name": "stdout",
     "output_type": "stream",
     "text": [
      "<class 'pandas.core.frame.DataFrame'>\n",
      "Index: 9659 entries, 0 to 10840\n",
      "Data columns (total 13 columns):\n",
      " #   Column          Non-Null Count  Dtype  \n",
      "---  ------          --------------  -----  \n",
      " 0   App             9659 non-null   object \n",
      " 1   Category        9659 non-null   object \n",
      " 2   Rating          9659 non-null   float64\n",
      " 3   Reviews         9659 non-null   float64\n",
      " 4   Size            9659 non-null   float64\n",
      " 5   Installs        9659 non-null   float64\n",
      " 6   Type            9659 non-null   object \n",
      " 7   Price           9659 non-null   float64\n",
      " 8   Content Rating  9659 non-null   object \n",
      " 9   Genres          9659 non-null   object \n",
      " 10  Last Updated    9659 non-null   object \n",
      " 11  Current Ver     9659 non-null   float64\n",
      " 12  Android Ver     9659 non-null   float64\n",
      "dtypes: float64(7), object(6)\n",
      "memory usage: 1.0+ MB\n"
     ]
    }
   ],
   "source": [
    "df.info()"
   ]
  },
  {
   "cell_type": "code",
   "execution_count": 228,
   "id": "d15e4a01-f559-4676-bcfb-eace533f0133",
   "metadata": {},
   "outputs": [
    {
     "name": "stdout",
     "output_type": "stream",
     "text": [
      "Google's estimated revenue from apps with 5M+ installs: $0.0\n"
     ]
    }
   ],
   "source": [
    "high_install_apps = df[df['Installs'] >= 5000000].copy()\n",
    "\n",
    "high_install_apps.loc[:, 'Google_Revenue'] = (high_install_apps['Installs'] * high_install_apps['Price'] * 0.30)\n",
    "\n",
    "total_google_revenue = high_install_apps['Google_Revenue'].sum().round(2)\n",
    "\n",
    "print(f\"Google's estimated revenue from apps with 5M+ installs: ${total_google_revenue:,}\")"
   ]
  },
  {
   "cell_type": "markdown",
   "id": "839a71dc-fddc-4971-810b-682ae1a83558",
   "metadata": {},
   "source": [
    "9. What are the maximum and minimum sizes of free vs. paid apps?"
   ]
  },
  {
   "cell_type": "code",
   "execution_count": 229,
   "id": "dbb97a4d-4140-4512-a34d-ccf96b2a9806",
   "metadata": {},
   "outputs": [
    {
     "name": "stdout",
     "output_type": "stream",
     "text": [
      "Maximum size of free apps: 0.09999234993497445\n",
      "Minimum size of free apps: 0.0\n",
      "Maximum size of paid apps: 0.09999234993497445\n",
      "Minimum size of paid apps: 5.500046750397378e-06\n"
     ]
    }
   ],
   "source": [
    "free_apps = df[df['Price'] == 0]\n",
    "paid_apps = df[df['Price'] > 0]\n",
    "\n",
    "max_size_free = free_apps['Size'].max()\n",
    "min_size_free = free_apps['Size'].min()\n",
    "\n",
    "max_size_paid = paid_apps['Size'].max()\n",
    "min_size_paid = paid_apps['Size'].min()\n",
    "\n",
    "print(f\"Maximum size of free apps: {max_size_free}\")\n",
    "print(f\"Minimum size of free apps: {min_size_free}\")\n",
    "print(f\"Maximum size of paid apps: {max_size_paid}\")\n",
    "print(f\"Minimum size of paid apps: {min_size_paid}\")"
   ]
  },
  {
   "cell_type": "code",
   "execution_count": 230,
   "id": "c02911ee-e708-4174-8cea-8085524ec2dc",
   "metadata": {},
   "outputs": [
    {
     "data": {
      "image/png": "[encoded data removed]",
      "text/plain": [
       "<Figure size 1000x300 with 1 Axes>"
      ]
     },
     "metadata": {},
     "output_type": "display_data"
    }
   ],
   "source": [
    "import matplotlib.pyplot as plt\n",
    "import seaborn as sns\n",
    "\n",
    "ree_apps = df[df['Price'] == 0]\n",
    "paid_apps = df[df['Price'] > 0]\n",
    "\n",
    "plt.figure(figsize=(10, 3))\n",
    "\n",
    "plt.subplot(1, 2, 2)\n",
    "sns.histplot(free_apps['Size'], label='Free', color='skyblue', kde=True, bins=30, alpha=0.7)\n",
    "sns.histplot(paid_apps['Size'], label='Paid', color='salmon', kde=True, bins=30, alpha=0.7)\n",
    "plt.title('Histogram of App Sizes (Free vs Paid)')\n",
    "plt.xlabel('Size')\n",
    "plt.ylabel('Frequency')\n",
    "plt.legend()\n",
    "\n",
    "plt.show()"
   ]
  },
  {
   "cell_type": "markdown",
   "id": "1247a717-c357-44fa-85e8-6b1ba92f4588",
   "metadata": {},
   "source": [
    "10. Is there a correlation between an app’s rating, number of reviews, size, and its price?"
   ]
  },
  {
   "cell_type": "code",
   "execution_count": 231,
   "id": "a5047b0c-272e-4935-961b-7f6cc79163ff",
   "metadata": {},
   "outputs": [
    {
     "name": "stdout",
     "output_type": "stream",
     "text": [
      "           Rating   Reviews      Size     Price\n",
      "Rating   1.000000  0.145637  0.044062 -0.018662\n",
      "Reviews  0.145637  1.000000  0.261295 -0.040500\n",
      "Size     0.044062  0.261295  1.000000 -0.022466\n",
      "Price   -0.018662 -0.040500 -0.022466  1.000000\n"
     ]
    }
   ],
   "source": [
    "correlation_matrix = df[['Rating', 'Reviews', 'Size', 'Price']].corr()\n",
    "print(correlation_matrix)"
   ]
  },
  {
   "cell_type": "code",
   "execution_count": 232,
   "id": "b4d7b218-b1c9-4db2-9b6c-0005c9c6f969",
   "metadata": {},
   "outputs": [
    {
     "data": {
      "image/png": "[encoded data removed]",
      "text/plain": [
       "<Figure size 800x400 with 2 Axes>"
      ]
     },
     "metadata": {},
     "output_type": "display_data"
    }
   ],
   "source": [
    "correlation_df = df[['Rating', 'Reviews', 'Size', 'Price']]\n",
    "correlation_matrix = correlation_df.corr(method='pearson')\n",
    "\n",
    "plt.figure(figsize=(8, 4))\n",
    "sns.heatmap(correlation_matrix, annot=True, cmap='coolwarm', fmt='.2f', linewidths=1, linecolor='black')\n",
    "plt.title('Correlation Matrix of Rating, Reviews, Size, and Price')\n",
    "plt.show()"
   ]
  },
  {
   "cell_type": "markdown",
   "id": "e8c602cc-e371-4c0c-a992-4ba8eca0dd23",
   "metadata": {},
   "source": [
    "11. How many apps exist for each type (free/paid) across different content ratings?"
   ]
  },
  {
   "cell_type": "code",
   "execution_count": 233,
   "id": "a5b7a61d-1401-410f-8cb1-0a4bb7afaf94",
   "metadata": {},
   "outputs": [
    {
     "name": "stdout",
     "output_type": "stream",
     "text": [
      "    Content Rating  Type  Count\n",
      "0  Adults only 18+  Free      3\n",
      "1         Everyone  Free   7248\n",
      "2         Everyone  Paid    655\n",
      "3     Everyone 10+  Free    291\n",
      "4     Everyone 10+  Paid     31\n",
      "5       Mature 17+  Free    375\n",
      "6       Mature 17+  Paid     18\n",
      "7             Teen  Free    984\n",
      "8             Teen  Paid     52\n",
      "9          Unrated  Free      2\n"
     ]
    }
   ],
   "source": [
    "app_counts = df.groupby(['Content Rating', 'Type']).size().reset_index(name='Count')\n",
    "print(app_counts)"
   ]
  },
  {
   "cell_type": "code",
   "execution_count": 234,
   "id": "8f23a512-4e79-4c2f-8152-8ca169133d45",
   "metadata": {},
   "outputs": [
    {
     "data": {
      "image/png": "[encoded data removed]",
      "text/plain": [
       "<Figure size 1000x400 with 1 Axes>"
      ]
     },
     "metadata": {},
     "output_type": "display_data"
    }
   ],
   "source": [
    "plt.figure(figsize=(10, 4))\n",
    "ax = sns.barplot(data=app_counts, x='Content Rating', y='Count', hue='Type', palette='coolwarm')\n",
    "\n",
    "for p in ax.patches:\n",
    "    ax.annotate(format(p.get_height(), '.0f'), \n",
    "                (p.get_x() + p.get_width() / 2., p.get_height()),  \n",
    "                ha='center', va='center', fontsize=10, color='black', xytext=(0, 5), textcoords='offset points')\n",
    "\n",
    "\n",
    "plt.title('Number of Free vs Paid Apps Across Content Ratings', fontsize=16)\n",
    "plt.xlabel('Content Rating', fontsize=12)\n",
    "plt.ylabel('Number of Apps', fontsize=12)\n",
    "plt.xticks(rotation=45)\n",
    "plt.legend(title='App Type')\n",
    "\n",
    "plt.show()"
   ]
  },
  {
   "cell_type": "markdown",
   "id": "40f58415-7370-4808-9836-93c887c673c5",
   "metadata": {},
   "source": [
    "12. How many apps are compatible with Android version 4.x?"
   ]
  },
  {
   "cell_type": "code",
   "execution_count": 235,
   "id": "59bd90d0-1b23-4dc8-9155-6587aace0777",
   "metadata": {},
   "outputs": [
    {
     "name": "stdout",
     "output_type": "stream",
     "text": [
      "Number of apps compatible with Android version 4.x: 6307\n"
     ]
    }
   ],
   "source": [
    "\n",
    "android_4x_apps = df[df['Android Ver'].astype(str).str.startswith('4.')]\n",
    "num_android_4x_apps = android_4x_apps.shape[0]\n",
    "\n",
    "print(f\"Number of apps compatible with Android version 4.x: {num_android_4x_apps}\")"
   ]
  }
 ],
 "metadata": {
  "kernelspec": {
   "display_name": "Python 3 (ipykernel)",
   "language": "python",
   "name": "python3"
  },
  "language_info": {
   "codemirror_mode": {
    "name": "ipython",
    "version": 3
   },
   "file_extension": ".py",
   "mimetype": "text/x-python",
   "name": "python",
   "nbconvert_exporter": "python",
   "pygments_lexer": "ipython3",
   "version": "3.12.7"
  }
 },
 "nbformat": 4,
 "nbformat_minor": 5
}
